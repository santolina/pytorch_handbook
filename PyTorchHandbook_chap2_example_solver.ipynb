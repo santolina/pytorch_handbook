{
  "nbformat": 4,
  "nbformat_minor": 0,
  "metadata": {
    "colab": {
      "name": "PyTorchHandbook_chap2_example_solver.ipynb",
      "provenance": [],
      "collapsed_sections": [],
      "include_colab_link": true
    },
    "kernelspec": {
      "name": "python3",
      "display_name": "Python 3"
    },
    "accelerator": "GPU"
  },
  "cells": [
    {
      "cell_type": "markdown",
      "metadata": {
        "id": "view-in-github",
        "colab_type": "text"
      },
      "source": [
        "<a href=\"https://colab.research.google.com/github/santolina/pytorch_handbook/blob/master/PyTorchHandbook_chap2_example_solver.ipynb\" target=\"_parent\"><img src=\"https://colab.research.google.com/assets/colab-badge.svg\" alt=\"Open In Colab\"/></a>"
      ]
    },
    {
      "cell_type": "code",
      "metadata": {
        "id": "kVAuFbUhog2r",
        "colab_type": "code",
        "outputId": "8f9e51ce-3ef3-4994-d3e7-183757b0137c",
        "colab": {
          "base_uri": "https://localhost:8080/",
          "height": 153
        }
      },
      "source": [
        "# isntall torch\n",
        "!pip install torch\n",
        "!pip install torchvision"
      ],
      "execution_count": 1,
      "outputs": [
        {
          "output_type": "stream",
          "text": [
            "Requirement already satisfied: torch in /usr/local/lib/python3.6/dist-packages (1.3.1)\n",
            "Requirement already satisfied: numpy in /usr/local/lib/python3.6/dist-packages (from torch) (1.17.4)\n",
            "Requirement already satisfied: torchvision in /usr/local/lib/python3.6/dist-packages (0.4.2)\n",
            "Requirement already satisfied: six in /usr/local/lib/python3.6/dist-packages (from torchvision) (1.12.0)\n",
            "Requirement already satisfied: torch==1.3.1 in /usr/local/lib/python3.6/dist-packages (from torchvision) (1.3.1)\n",
            "Requirement already satisfied: numpy in /usr/local/lib/python3.6/dist-packages (from torchvision) (1.17.4)\n",
            "Requirement already satisfied: pillow>=4.1.1 in /usr/local/lib/python3.6/dist-packages (from torchvision) (4.3.0)\n",
            "Requirement already satisfied: olefile in /usr/local/lib/python3.6/dist-packages (from pillow>=4.1.1->torchvision) (0.46)\n"
          ],
          "name": "stdout"
        }
      ]
    },
    {
      "cell_type": "code",
      "metadata": {
        "id": "a0ZCi60po48o",
        "colab_type": "code",
        "colab": {}
      },
      "source": [
        "import torch\n",
        "import numpy as np"
      ],
      "execution_count": 0,
      "outputs": []
    },
    {
      "cell_type": "code",
      "metadata": {
        "id": "FvH0qx4epB60",
        "colab_type": "code",
        "outputId": "20c01fc1-cefa-4fc4-c223-5060fb675367",
        "colab": {
          "base_uri": "https://localhost:8080/",
          "height": 34
        }
      },
      "source": [
        "torch.__version__"
      ],
      "execution_count": 67,
      "outputs": [
        {
          "output_type": "execute_result",
          "data": {
            "text/plain": [
              "'1.3.1'"
            ]
          },
          "metadata": {
            "tags": []
          },
          "execution_count": 67
        }
      ]
    },
    {
      "cell_type": "markdown",
      "metadata": {
        "id": "-omif3QD1K4w",
        "colab_type": "text"
      },
      "source": [
        "# Section 2.3 Network Definition\n"
      ]
    },
    {
      "cell_type": "code",
      "metadata": {
        "id": "JyerfWfV1O43",
        "colab_type": "code",
        "colab": {
          "base_uri": "https://localhost:8080/",
          "height": 119
        },
        "outputId": "d432ecca-7995-47e4-e98a-16dd101c0de8"
      },
      "source": [
        "#1 network define using sequential manner\n",
        "\n",
        "import torch.nn as nn\n",
        "\n",
        "model = nn.Sequential(\n",
        "    nn.Conv2d(1, 20, 5),\n",
        "    nn.ReLU(),\n",
        "    nn.Conv2d(20, 60, 5),\n",
        "    nn.ReLU()\n",
        ")\n",
        "\n",
        "model"
      ],
      "execution_count": 44,
      "outputs": [
        {
          "output_type": "execute_result",
          "data": {
            "text/plain": [
              "Sequential(\n",
              "  (0): Conv2d(1, 20, kernel_size=(5, 5), stride=(1, 1))\n",
              "  (1): ReLU()\n",
              "  (2): Conv2d(20, 60, kernel_size=(5, 5), stride=(1, 1))\n",
              "  (3): ReLU()\n",
              ")"
            ]
          },
          "metadata": {
            "tags": []
          },
          "execution_count": 44
        }
      ]
    },
    {
      "cell_type": "code",
      "metadata": {
        "id": "Ed9Brpimt6_T",
        "colab_type": "code",
        "colab": {
          "base_uri": "https://localhost:8080/",
          "height": 119
        },
        "outputId": "a4ee869d-a538-4ba6-bc35-c6704f3558c2"
      },
      "source": [
        "#2 network define using add module\n",
        "model = torch.nn.Sequential()\n",
        "\n",
        "model.add_module('conv1', nn.Conv2d(1,20,5))\n",
        "model.add_module('relu1', nn.ReLU())\n",
        "model.add_module('conv2', nn.Conv2d(20,64,5))\n",
        "model.add_module('relu2', nn.ReLU())\n",
        "\n",
        "model"
      ],
      "execution_count": 45,
      "outputs": [
        {
          "output_type": "execute_result",
          "data": {
            "text/plain": [
              "Sequential(\n",
              "  (conv1): Conv2d(1, 20, kernel_size=(5, 5), stride=(1, 1))\n",
              "  (relu1): ReLU()\n",
              "  (conv2): Conv2d(20, 64, kernel_size=(5, 5), stride=(1, 1))\n",
              "  (relu2): ReLU()\n",
              ")"
            ]
          },
          "metadata": {
            "tags": []
          },
          "execution_count": 45
        }
      ]
    },
    {
      "cell_type": "code",
      "metadata": {
        "id": "iMEO2eSDvFA2",
        "colab_type": "code",
        "colab": {
          "base_uri": "https://localhost:8080/",
          "height": 119
        },
        "outputId": "9b9e8423-88d0-4d39-b1dd-0a56983ca543"
      },
      "source": [
        "#3 network define using OrderedDict\n",
        "from collections import OrderedDict\n",
        "\n",
        "layersDict = OrderedDict([\n",
        "                          ('conv1', nn.Conv2d(1, 20, 5)),\n",
        "                          ('relu1', nn.ReLU()),\n",
        "                          ('conv2', nn.Conv2d(20, 60, 5)),\n",
        "                          ('relu2', nn.ReLU())])\n",
        "\n",
        "model = nn.Sequential(layersDict)\n",
        "model\n"
      ],
      "execution_count": 46,
      "outputs": [
        {
          "output_type": "execute_result",
          "data": {
            "text/plain": [
              "Sequential(\n",
              "  (conv1): Conv2d(1, 20, kernel_size=(5, 5), stride=(1, 1))\n",
              "  (relu1): ReLU()\n",
              "  (conv2): Conv2d(20, 60, kernel_size=(5, 5), stride=(1, 1))\n",
              "  (relu2): ReLU()\n",
              ")"
            ]
          },
          "metadata": {
            "tags": []
          },
          "execution_count": 46
        }
      ]
    },
    {
      "cell_type": "code",
      "metadata": {
        "id": "Vt8SF-S2v6Vz",
        "colab_type": "code",
        "colab": {
          "base_uri": "https://localhost:8080/",
          "height": 119
        },
        "outputId": "0268f8e6-3a50-4887-b7c9-0e6f7f91ed2f"
      },
      "source": [
        "layers = OrderedDict()\n",
        "layers['conv1'] = nn.Conv2d(1, 20, 5)\n",
        "layers['relu1'] = nn.ReLU()\n",
        "layers['conv2'] = nn.Conv2d(20, 60, 5)\n",
        "layers['relu2'] = nn.ReLU()\n",
        "\n",
        "model = nn.Sequential(layers)\n",
        "model"
      ],
      "execution_count": 47,
      "outputs": [
        {
          "output_type": "execute_result",
          "data": {
            "text/plain": [
              "Sequential(\n",
              "  (conv1): Conv2d(1, 20, kernel_size=(5, 5), stride=(1, 1))\n",
              "  (relu1): ReLU()\n",
              "  (conv2): Conv2d(20, 60, kernel_size=(5, 5), stride=(1, 1))\n",
              "  (relu2): ReLU()\n",
              ")"
            ]
          },
          "metadata": {
            "tags": []
          },
          "execution_count": 47
        }
      ]
    },
    {
      "cell_type": "code",
      "metadata": {
        "id": "qOHG5ioFwUPD",
        "colab_type": "code",
        "colab": {
          "base_uri": "https://localhost:8080/",
          "height": 85
        },
        "outputId": "ff4f3c0c-cc92-4b71-bfcc-789b8631f923"
      },
      "source": [
        "# network define using functional API\n",
        "# using nn.Module\n",
        "\n",
        "import torch.nn as nn\n",
        "import torch.nn.functional as F\n",
        "\n",
        "class Model(nn.Module):\n",
        "  def __init__(self):\n",
        "    super(Model, self).__init__()\n",
        "    self.conv1 = nn.Conv2d(1, 20, 5)\n",
        "    self.conv2 = nn.Conv2d(20, 64, 5)\n",
        "\n",
        "  def foward(self, x):\n",
        "    x = F.relu(self.conv1(x))\n",
        "    x = F.relu(self.conv2(x))\n",
        "    return x\n",
        "\n",
        "model = Model()  \n",
        "model"
      ],
      "execution_count": 48,
      "outputs": [
        {
          "output_type": "execute_result",
          "data": {
            "text/plain": [
              "Model(\n",
              "  (conv1): Conv2d(1, 20, kernel_size=(5, 5), stride=(1, 1))\n",
              "  (conv2): Conv2d(20, 64, kernel_size=(5, 5), stride=(1, 1))\n",
              ")"
            ]
          },
          "metadata": {
            "tags": []
          },
          "execution_count": 48
        }
      ]
    },
    {
      "cell_type": "code",
      "metadata": {
        "id": "YIJ6nrSmxojd",
        "colab_type": "code",
        "colab": {
          "base_uri": "https://localhost:8080/",
          "height": 119
        },
        "outputId": "53a8575e-22e3-4b0f-ef75-650ccb763e31"
      },
      "source": [
        "# network define using functional API\n",
        "# using nn.Module\n",
        "\n",
        "import torch.nn as nn\n",
        "import torch.nn.functional as F\n",
        "\n",
        "class Model(nn.Module):\n",
        "  def __init__(self):\n",
        "    super(Model, self).__init__()\n",
        "    self.conv1 = nn.Conv2d(1, 20, 5)\n",
        "    self.conv2 = nn.Conv2d(20, 64, 5)\n",
        "    self.relu1 = nn.ReLU()\n",
        "    self.relu2 = nn.ReLU()\n",
        "\n",
        "  def foward(self, x):\n",
        "    x = self.relu1(self.conv1(x))\n",
        "    x = self.relu2(self.conv2(x))\n",
        "    return x\n",
        "\n",
        "model = Model()  \n",
        "model"
      ],
      "execution_count": 49,
      "outputs": [
        {
          "output_type": "execute_result",
          "data": {
            "text/plain": [
              "Model(\n",
              "  (conv1): Conv2d(1, 20, kernel_size=(5, 5), stride=(1, 1))\n",
              "  (conv2): Conv2d(20, 64, kernel_size=(5, 5), stride=(1, 1))\n",
              "  (relu1): ReLU()\n",
              "  (relu2): ReLU()\n",
              ")"
            ]
          },
          "metadata": {
            "tags": []
          },
          "execution_count": 49
        }
      ]
    },
    {
      "cell_type": "code",
      "metadata": {
        "id": "nPZECVwXx7DT",
        "colab_type": "code",
        "colab": {
          "base_uri": "https://localhost:8080/",
          "height": 119
        },
        "outputId": "e264e8a4-fb05-4fef-b8f3-d612a336ed60"
      },
      "source": [
        "# network define using functional API and nn.ModuleList\n",
        "\n",
        "class Model(nn.Module):\n",
        "  def __init__(self):\n",
        "    super(Model, self).__init__()\n",
        "    self.convs = nn.ModuleList(\n",
        "        [\n",
        "         nn.Conv2d(1 ,20, 5),\n",
        "         nn.Conv2d(20, 64, 5)         \n",
        "        ])\n",
        "\n",
        "  def forward(self, x):\n",
        "    for i, l in enumerate(self.convs):\n",
        "      x = F.relu(l(x))\n",
        "    return x\n",
        "\n",
        "model = Model()\n",
        "model"
      ],
      "execution_count": 50,
      "outputs": [
        {
          "output_type": "execute_result",
          "data": {
            "text/plain": [
              "Model(\n",
              "  (convs): ModuleList(\n",
              "    (0): Conv2d(1, 20, kernel_size=(5, 5), stride=(1, 1))\n",
              "    (1): Conv2d(20, 64, kernel_size=(5, 5), stride=(1, 1))\n",
              "  )\n",
              ")"
            ]
          },
          "metadata": {
            "tags": []
          },
          "execution_count": 50
        }
      ]
    },
    {
      "cell_type": "code",
      "metadata": {
        "id": "5hGLpjmQywHm",
        "colab_type": "code",
        "colab": {
          "base_uri": "https://localhost:8080/",
          "height": 153
        },
        "outputId": "a463205e-3bb6-4b84-facd-9e5ff7a38ca6"
      },
      "source": [
        "# network define using functional API and nn.ModuleList\n",
        "\n",
        "class Model(nn.Module):\n",
        "  def __init__(self):\n",
        "    super(Model, self).__init__()\n",
        "    self.convs = nn.ModuleList(\n",
        "        [\n",
        "         nn.Conv2d(1 ,20, 5),\n",
        "         nn.ReLU(),\n",
        "         nn.Conv2d(20, 64, 5),\n",
        "         nn.ReLU()\n",
        "        ])\n",
        "\n",
        "  def forward(self, x):\n",
        "    for i, l in enumerate(self.convs):\n",
        "      x = l(x)\n",
        "    return x\n",
        "\n",
        "model = Model()\n",
        "model"
      ],
      "execution_count": 51,
      "outputs": [
        {
          "output_type": "execute_result",
          "data": {
            "text/plain": [
              "Model(\n",
              "  (convs): ModuleList(\n",
              "    (0): Conv2d(1, 20, kernel_size=(5, 5), stride=(1, 1))\n",
              "    (1): ReLU()\n",
              "    (2): Conv2d(20, 64, kernel_size=(5, 5), stride=(1, 1))\n",
              "    (3): ReLU()\n",
              "  )\n",
              ")"
            ]
          },
          "metadata": {
            "tags": []
          },
          "execution_count": 51
        }
      ]
    },
    {
      "cell_type": "code",
      "metadata": {
        "id": "LgX__uBBy-IP",
        "colab_type": "code",
        "colab": {
          "base_uri": "https://localhost:8080/",
          "height": 153
        },
        "outputId": "053b1fb4-4573-4026-87ea-fd1a063bea6d"
      },
      "source": [
        "# network define using functional API and nn.ModuleDict\n",
        "\n",
        "class Model(nn.Module):\n",
        "  def __init__(self):\n",
        "    super(Model, self).__init__()\n",
        "    self.convs = nn.ModuleDict(\n",
        "        {\n",
        "          'conv1': nn.Conv2d(1, 20, 5),\n",
        "          'relu1': nn.ReLU(),\n",
        "          'conv2': nn.Conv2d(20, 64, 5),\n",
        "          'relu2': nn.ReLU()\n",
        "        }\n",
        "    )\n",
        "\n",
        "  def forward(self, x):\n",
        "    for l in self.convs.values():\n",
        "      x = l(x)\n",
        "    return x\n",
        "\n",
        "model = Model()\n",
        "model"
      ],
      "execution_count": 52,
      "outputs": [
        {
          "output_type": "execute_result",
          "data": {
            "text/plain": [
              "Model(\n",
              "  (convs): ModuleDict(\n",
              "    (conv1): Conv2d(1, 20, kernel_size=(5, 5), stride=(1, 1))\n",
              "    (conv2): Conv2d(20, 64, kernel_size=(5, 5), stride=(1, 1))\n",
              "    (relu1): ReLU()\n",
              "    (relu2): ReLU()\n",
              "  )\n",
              ")"
            ]
          },
          "metadata": {
            "tags": []
          },
          "execution_count": 52
        }
      ]
    },
    {
      "cell_type": "code",
      "metadata": {
        "id": "AYn2FVD4zwur",
        "colab_type": "code",
        "colab": {}
      },
      "source": [
        ""
      ],
      "execution_count": 0,
      "outputs": []
    },
    {
      "cell_type": "markdown",
      "metadata": {
        "id": "VJc5O5Dm0XUv",
        "colab_type": "text"
      },
      "source": [
        "# AutoGrad"
      ]
    },
    {
      "cell_type": "code",
      "metadata": {
        "id": "DZ1J9Dp50Y2b",
        "colab_type": "code",
        "colab": {
          "base_uri": "https://localhost:8080/",
          "height": 34
        },
        "outputId": "afded2fe-bb4b-4ac0-c1f6-6c5f7602247a"
      },
      "source": [
        "# define tensor\n",
        "x = torch.tensor(1, requires_grad=True, dtype=torch.float32)\n",
        "w = torch.tensor(2, requires_grad=True, dtype=torch.float32)\n",
        "b = torch.tensor(3, requires_grad=True, dtype=torch.float32)\n",
        "\n",
        "# define graph\n",
        "\n",
        "y = w * x + b\n",
        "\n",
        "print(y)\n"
      ],
      "execution_count": 53,
      "outputs": [
        {
          "output_type": "stream",
          "text": [
            "tensor(5., grad_fn=<AddBackward0>)\n"
          ],
          "name": "stdout"
        }
      ]
    },
    {
      "cell_type": "code",
      "metadata": {
        "id": "ylivKlgj0v4A",
        "colab_type": "code",
        "colab": {
          "base_uri": "https://localhost:8080/",
          "height": 34
        },
        "outputId": "8c4d5898-a301-480a-b1a2-53c31c68c106"
      },
      "source": [
        "# check gradient\n",
        "print(y.backward())"
      ],
      "execution_count": 54,
      "outputs": [
        {
          "output_type": "stream",
          "text": [
            "None\n"
          ],
          "name": "stdout"
        }
      ]
    },
    {
      "cell_type": "code",
      "metadata": {
        "id": "f1TPrE0000QM",
        "colab_type": "code",
        "colab": {
          "base_uri": "https://localhost:8080/",
          "height": 68
        },
        "outputId": "8041d5e2-6ee4-4cc9-c031-bda933e5820d"
      },
      "source": [
        "print(x.grad)\n",
        "print(w.grad)\n",
        "print(b.grad)"
      ],
      "execution_count": 55,
      "outputs": [
        {
          "output_type": "stream",
          "text": [
            "tensor(2.)\n",
            "tensor(1.)\n",
            "tensor(1.)\n"
          ],
          "name": "stdout"
        }
      ]
    },
    {
      "cell_type": "code",
      "metadata": {
        "id": "R5kSMWFj04MF",
        "colab_type": "code",
        "colab": {
          "base_uri": "https://localhost:8080/",
          "height": 51
        },
        "outputId": "adee9ab9-5ec3-4d5c-f9b3-cb396890147a"
      },
      "source": [
        "# Freeze parameter\n",
        "\n",
        "import torchvision\n",
        "\n",
        "net = torchvision.models.vgg16(pretrained=True)\n",
        "for param in net.features.parameters():\n",
        "  param.requires_grad = False"
      ],
      "execution_count": 56,
      "outputs": [
        {
          "output_type": "stream",
          "text": [
            "Downloading: \"https://download.pytorch.org/models/vgg16-397923af.pth\" to /root/.cache/torch/checkpoints/vgg16-397923af.pth\n",
            "100%|██████████| 528M/528M [00:02<00:00, 239MB/s]\n"
          ],
          "name": "stderr"
        }
      ]
    },
    {
      "cell_type": "code",
      "metadata": {
        "id": "bwgf3jAv1L0v",
        "colab_type": "code",
        "colab": {
          "base_uri": "https://localhost:8080/",
          "height": 782
        },
        "outputId": "65e6546e-3f66-4009-e669-ae9ef12834d1"
      },
      "source": [
        "net"
      ],
      "execution_count": 57,
      "outputs": [
        {
          "output_type": "execute_result",
          "data": {
            "text/plain": [
              "VGG(\n",
              "  (features): Sequential(\n",
              "    (0): Conv2d(3, 64, kernel_size=(3, 3), stride=(1, 1), padding=(1, 1))\n",
              "    (1): ReLU(inplace=True)\n",
              "    (2): Conv2d(64, 64, kernel_size=(3, 3), stride=(1, 1), padding=(1, 1))\n",
              "    (3): ReLU(inplace=True)\n",
              "    (4): MaxPool2d(kernel_size=2, stride=2, padding=0, dilation=1, ceil_mode=False)\n",
              "    (5): Conv2d(64, 128, kernel_size=(3, 3), stride=(1, 1), padding=(1, 1))\n",
              "    (6): ReLU(inplace=True)\n",
              "    (7): Conv2d(128, 128, kernel_size=(3, 3), stride=(1, 1), padding=(1, 1))\n",
              "    (8): ReLU(inplace=True)\n",
              "    (9): MaxPool2d(kernel_size=2, stride=2, padding=0, dilation=1, ceil_mode=False)\n",
              "    (10): Conv2d(128, 256, kernel_size=(3, 3), stride=(1, 1), padding=(1, 1))\n",
              "    (11): ReLU(inplace=True)\n",
              "    (12): Conv2d(256, 256, kernel_size=(3, 3), stride=(1, 1), padding=(1, 1))\n",
              "    (13): ReLU(inplace=True)\n",
              "    (14): Conv2d(256, 256, kernel_size=(3, 3), stride=(1, 1), padding=(1, 1))\n",
              "    (15): ReLU(inplace=True)\n",
              "    (16): MaxPool2d(kernel_size=2, stride=2, padding=0, dilation=1, ceil_mode=False)\n",
              "    (17): Conv2d(256, 512, kernel_size=(3, 3), stride=(1, 1), padding=(1, 1))\n",
              "    (18): ReLU(inplace=True)\n",
              "    (19): Conv2d(512, 512, kernel_size=(3, 3), stride=(1, 1), padding=(1, 1))\n",
              "    (20): ReLU(inplace=True)\n",
              "    (21): Conv2d(512, 512, kernel_size=(3, 3), stride=(1, 1), padding=(1, 1))\n",
              "    (22): ReLU(inplace=True)\n",
              "    (23): MaxPool2d(kernel_size=2, stride=2, padding=0, dilation=1, ceil_mode=False)\n",
              "    (24): Conv2d(512, 512, kernel_size=(3, 3), stride=(1, 1), padding=(1, 1))\n",
              "    (25): ReLU(inplace=True)\n",
              "    (26): Conv2d(512, 512, kernel_size=(3, 3), stride=(1, 1), padding=(1, 1))\n",
              "    (27): ReLU(inplace=True)\n",
              "    (28): Conv2d(512, 512, kernel_size=(3, 3), stride=(1, 1), padding=(1, 1))\n",
              "    (29): ReLU(inplace=True)\n",
              "    (30): MaxPool2d(kernel_size=2, stride=2, padding=0, dilation=1, ceil_mode=False)\n",
              "  )\n",
              "  (avgpool): AdaptiveAvgPool2d(output_size=(7, 7))\n",
              "  (classifier): Sequential(\n",
              "    (0): Linear(in_features=25088, out_features=4096, bias=True)\n",
              "    (1): ReLU(inplace=True)\n",
              "    (2): Dropout(p=0.5, inplace=False)\n",
              "    (3): Linear(in_features=4096, out_features=4096, bias=True)\n",
              "    (4): ReLU(inplace=True)\n",
              "    (5): Dropout(p=0.5, inplace=False)\n",
              "    (6): Linear(in_features=4096, out_features=1000, bias=True)\n",
              "  )\n",
              ")"
            ]
          },
          "metadata": {
            "tags": []
          },
          "execution_count": 57
        }
      ]
    },
    {
      "cell_type": "markdown",
      "metadata": {
        "id": "KwpIOhMk1cGk",
        "colab_type": "text"
      },
      "source": [
        "# Enable GPU"
      ]
    },
    {
      "cell_type": "code",
      "metadata": {
        "id": "--CrIRfV1Pg_",
        "colab_type": "code",
        "colab": {}
      },
      "source": [
        "# Enable GPU\n",
        "\n",
        "xf_gpu = torch.FloatTensor(1, 2).to('cuda')"
      ],
      "execution_count": 0,
      "outputs": []
    },
    {
      "cell_type": "code",
      "metadata": {
        "id": "o-B19HKT1k8y",
        "colab_type": "code",
        "colab": {
          "base_uri": "https://localhost:8080/",
          "height": 34
        },
        "outputId": "7e3312b9-e13e-4e59-b71b-4f24e534e260"
      },
      "source": [
        "xf_gpu"
      ],
      "execution_count": 59,
      "outputs": [
        {
          "output_type": "execute_result",
          "data": {
            "text/plain": [
              "tensor([[5.0991e-36, 0.0000e+00]], device='cuda:0')"
            ]
          },
          "metadata": {
            "tags": []
          },
          "execution_count": 59
        }
      ]
    },
    {
      "cell_type": "code",
      "metadata": {
        "id": "G5bz7xzg1zyR",
        "colab_type": "code",
        "colab": {
          "base_uri": "https://localhost:8080/",
          "height": 119
        },
        "outputId": "ae310017-e5d6-42a8-d9fe-613f8ad1ded1"
      },
      "source": [
        "\n",
        "import torch.nn as nn\n",
        "import torch.nn.functional as F\n",
        "\n",
        "class Model(nn.Module):\n",
        "  def __init__(self):\n",
        "    super(Model, self).__init__()\n",
        "    self.conv1 = nn.Conv2d(1, 20, 5)\n",
        "    self.relu1 = nn.ReLU()\n",
        "    self.conv2 = nn.Conv2d(20, 64, 5)\n",
        "    self.relu2 = nn.ReLU()\n",
        "\n",
        "  def forward(self, x):\n",
        "    x = F.relu(self.conv1(x))\n",
        "    x = F.relu(self.conv2(x))\n",
        "    return x\n",
        "\n",
        "net = Model()\n",
        "net.to('cuda')"
      ],
      "execution_count": 60,
      "outputs": [
        {
          "output_type": "execute_result",
          "data": {
            "text/plain": [
              "Model(\n",
              "  (conv1): Conv2d(1, 20, kernel_size=(5, 5), stride=(1, 1))\n",
              "  (relu1): ReLU()\n",
              "  (conv2): Conv2d(20, 64, kernel_size=(5, 5), stride=(1, 1))\n",
              "  (relu2): ReLU()\n",
              ")"
            ]
          },
          "metadata": {
            "tags": []
          },
          "execution_count": 60
        }
      ]
    },
    {
      "cell_type": "code",
      "metadata": {
        "id": "dpFOGm3R2Z3a",
        "colab_type": "code",
        "colab": {}
      },
      "source": [
        ""
      ],
      "execution_count": 0,
      "outputs": []
    },
    {
      "cell_type": "markdown",
      "metadata": {
        "id": "ww23p23M_LqA",
        "colab_type": "text"
      },
      "source": [
        "# Loss Function and Optimization\n"
      ]
    },
    {
      "cell_type": "code",
      "metadata": {
        "id": "h9vGYYM-_N7M",
        "colab_type": "code",
        "colab": {
          "base_uri": "https://localhost:8080/",
          "height": 34
        },
        "outputId": "a18dffef-02cd-41aa-db8b-ee803acedec2"
      },
      "source": [
        "# MSELoss\n",
        "x = torch.randn(8)\n",
        "y = torch.randn(8)\n",
        "\n",
        "criterion = nn.MSELoss()\n",
        "loss = criterion(x,y)\n",
        "print(loss)"
      ],
      "execution_count": 68,
      "outputs": [
        {
          "output_type": "stream",
          "text": [
            "tensor(2.0397)\n"
          ],
          "name": "stdout"
        }
      ]
    },
    {
      "cell_type": "code",
      "metadata": {
        "id": "0UgunpgL_cwl",
        "colab_type": "code",
        "colab": {
          "base_uri": "https://localhost:8080/",
          "height": 34
        },
        "outputId": "8efb361c-6ca7-4665-ac22-31a6591089b9"
      },
      "source": [
        "# CrossEntropyLoss\n",
        "x = torch.randn(1, 8)\n",
        "y = torch.LongTensor([1]).random_(8)\n",
        "\n",
        "criterion = nn.CrossEntropyLoss()\n",
        "loss = criterion(x, y)\n",
        "\n",
        "print(loss)"
      ],
      "execution_count": 69,
      "outputs": [
        {
          "output_type": "stream",
          "text": [
            "tensor(1.2366)\n"
          ],
          "name": "stdout"
        }
      ]
    },
    {
      "cell_type": "code",
      "metadata": {
        "id": "AQN_Ty9r_ryn",
        "colab_type": "code",
        "colab": {
          "base_uri": "https://localhost:8080/",
          "height": 68
        },
        "outputId": "b228989a-8c97-4000-f6c8-0fb5c2a29116"
      },
      "source": [
        "# linear layer for optimization\n",
        "class Net(nn.Module):\n",
        "  def __init__(self):\n",
        "    super(Net, self).__init__()\n",
        "\n",
        "    # nn. Linear\n",
        "    self.lin1 = nn.Linear(in_features=10, out_features=10, bias=False)\n",
        "\n",
        "  def forward(self, x):\n",
        "    x = self.lin1(x)\n",
        "    return x\n",
        "\n",
        "net = Net()\n",
        "net\n",
        "  "
      ],
      "execution_count": 70,
      "outputs": [
        {
          "output_type": "execute_result",
          "data": {
            "text/plain": [
              "Net(\n",
              "  (lin1): Linear(in_features=10, out_features=10, bias=False)\n",
              ")"
            ]
          },
          "metadata": {
            "tags": []
          },
          "execution_count": 70
        }
      ]
    },
    {
      "cell_type": "code",
      "metadata": {
        "id": "Nm6AUk81BG-O",
        "colab_type": "code",
        "colab": {}
      },
      "source": [
        "def solver(opt_conf='sgd', num_epoch=100):\n",
        "  loss_list = [ ]\n",
        "\n",
        "  # generate data\n",
        "  x = torch.randn(1, 10)\n",
        "  w = torch.randn(1, 1)\n",
        "  y = torch.mul(w, x) + 2\n",
        "\n",
        "  # network define\n",
        "  net = Net()\n",
        "\n",
        "  # define loss function\n",
        "  criterion = nn.MSELoss()\n",
        "\n",
        "  # Optimization method\n",
        "  if opt_conf == 'sgd':\n",
        "    optimizer = torch.optim.SGD(net.parameters(), lr=0.1)\n",
        "  elif opt_conf == 'momentum_sgd':\n",
        "    optimizer = torch.optim.SGD(net.parameters(), lr=0.1, momentum=0.9)\n",
        "  elif opt_conf == 'adadelta':\n",
        "    optimizer = torch.optim.Adadelta(net.parameters(), rho=0.95, eps=1e-04)\n",
        "  elif opt_conf == 'adagrad':\n",
        "    optimizer = torch.optim.Adagrad(net.parameters())\n",
        "  elif opt_conf == 'adam':\n",
        "    optimizer = torch.optim.Adam(net.parameters(), lr=1e-1, betas=(0.9, 0.99), eps=1e-09)\n",
        "  elif opt_conf == 'rmsprop':\n",
        "    optimizer = torch.optim.RMSprop(net.parameters())\n",
        "  else:\n",
        "    print('invalid parameter')\n",
        "    raise\n",
        "\n",
        "  # train\n",
        "  for epoch in range(num_epoch):\n",
        "    optimizer.zero_grad()\n",
        "\n",
        "    y_pred = net(x)\n",
        "\n",
        "    loss = criterion(y_pred, y)\n",
        "    loss.backward()\n",
        "\n",
        "    optimizer.step()\n",
        "\n",
        "    loss_list.append(loss.data.item())\n",
        "\n",
        "  return loss_list\n",
        "\n",
        "\n",
        "\n"
      ],
      "execution_count": 0,
      "outputs": []
    },
    {
      "cell_type": "code",
      "metadata": {
        "id": "2hH5Ol_mFBSy",
        "colab_type": "code",
        "colab": {}
      },
      "source": [
        "# compare optimizer\n",
        "loss_dict = {}\n",
        "loss_dict['sgd'] = []\n",
        "loss_dict['momentum_sgd'] = []\n",
        "loss_dict['adadelta'] = []\n",
        "loss_dict['adam'] = []\n",
        "loss_dict['rmsprop'] = []\n",
        "\n",
        "for key, value in loss_dict.items():\n",
        "  loss_dict[key] = solver(opt_conf=key)\n"
      ],
      "execution_count": 0,
      "outputs": []
    },
    {
      "cell_type": "code",
      "metadata": {
        "id": "pM2n1dITFtwq",
        "colab_type": "code",
        "colab": {
          "base_uri": "https://localhost:8080/",
          "height": 279
        },
        "outputId": "0e8291f8-5272-4fda-a2ef-a12fcd5671e1"
      },
      "source": [
        "import matplotlib.pyplot as plt\n",
        "\n",
        "plt.figure()\n",
        "for key in loss_dict.keys():\n",
        "  plt.plot(loss_dict[key][:50], label=key)\n",
        "\n",
        "plt.legend()\n",
        "plt.grid()\n",
        "plt.xlabel('epoch')\n",
        "plt.ylabel('loss')\n",
        "plt.show()\n"
      ],
      "execution_count": 84,
      "outputs": [
        {
          "output_type": "display_data",
          "data": {
            "image/png": "[encoded data removed]",
            "text/plain": [
              "<Figure size 432x288 with 1 Axes>"
            ]
          },
          "metadata": {
            "tags": []
          }
        }
      ]
    },
    {
      "cell_type": "code",
      "metadata": {
        "id": "GYVSosLcGj8j",
        "colab_type": "code",
        "colab": {}
      },
      "source": [
        ""
      ],
      "execution_count": 0,
      "outputs": []
    }
  ]
}