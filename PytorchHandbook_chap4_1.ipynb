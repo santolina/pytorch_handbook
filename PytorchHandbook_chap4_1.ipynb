{
  "nbformat": 4,
  "nbformat_minor": 0,
  "metadata": {
    "colab": {
      "name": "PytorchHandbook_chap4_1.ipynb",
      "provenance": [],
      "collapsed_sections": [],
      "include_colab_link": true
    },
    "kernelspec": {
      "name": "python3",
      "display_name": "Python 3"
    },
    "accelerator": "GPU"
  },
  "cells": [
    {
      "cell_type": "markdown",
      "metadata": {
        "id": "view-in-github",
        "colab_type": "text"
      },
      "source": [
        "<a href=\"https://colab.research.google.com/github/santolina/pytorch_handbook/blob/master/PytorchHandbook_chap4_1.ipynb\" target=\"_parent\"><img src=\"https://colab.research.google.com/assets/colab-badge.svg\" alt=\"Open In Colab\"/></a>"
      ]
    },
    {
      "cell_type": "markdown",
      "metadata": {
        "id": "ZWw7NUDcByHX",
        "colab_type": "text"
      },
      "source": [
        "# 4.1 Image classfication using CIFAR-10"
      ]
    },
    {
      "cell_type": "code",
      "metadata": {
        "id": "-pHgTSBw7ql1",
        "colab_type": "code",
        "colab": {}
      },
      "source": [
        "import torch\n",
        "import torchvision\n",
        "import torch.nn as nn\n",
        "import torch.optim as optim\n",
        "import torch.nn.functional as F\n",
        "import torchvision.transforms as transforms\n",
        "%matplotlib inline\n",
        "import numpy as np\n",
        "import matplotlib.pyplot as plt"
      ],
      "execution_count": 0,
      "outputs": []
    },
    {
      "cell_type": "code",
      "metadata": {
        "id": "ygG4pCI8-mNQ",
        "colab_type": "code",
        "outputId": "8bf81a67-b8e7-41f9-b556-fc5cd27b09f7",
        "colab": {
          "base_uri": "https://localhost:8080/",
          "height": 122
        }
      },
      "source": [
        "# import dataset\n",
        "\n",
        "train_dataset = torchvision.datasets.CIFAR10(root='./data/', \n",
        "                                             train=True,\n",
        "                                             transform = transforms.ToTensor(),\n",
        "                                             download=True\n",
        "                                             )\n",
        "\n",
        "test_dataset = torchvision.datasets.CIFAR10(root='./data/', \n",
        "                                            train=False,\n",
        "                                            transform = transforms.ToTensor(),\n",
        "                                            download = True\n",
        "                                            )\n",
        "                                \n",
        "image, label = train_dataset[0]\n",
        "print(image.size())\n",
        "print(label)"
      ],
      "execution_count": 2,
      "outputs": [
        {
          "output_type": "stream",
          "text": [
            "\r0it [00:00, ?it/s]"
          ],
          "name": "stderr"
        },
        {
          "output_type": "stream",
          "text": [
            "Downloading https://www.cs.toronto.edu/~kriz/cifar-10-python.tar.gz to ./data/cifar-10-python.tar.gz\n"
          ],
          "name": "stdout"
        },
        {
          "output_type": "stream",
          "text": [
            "170500096it [00:04, 40990173.12it/s]                               \n"
          ],
          "name": "stderr"
        },
        {
          "output_type": "stream",
          "text": [
            "Extracting ./data/cifar-10-python.tar.gz to ./data/\n",
            "Files already downloaded and verified\n",
            "torch.Size([3, 32, 32])\n",
            "6\n"
          ],
          "name": "stdout"
        }
      ]
    },
    {
      "cell_type": "code",
      "metadata": {
        "id": "vLb4TK2K-pLE",
        "colab_type": "code",
        "colab": {}
      },
      "source": [
        "# define Dataloader\n",
        "\n",
        "train_loader = torch.utils.data.DataLoader(\n",
        "    dataset = train_dataset,\n",
        "    batch_size = 64,\n",
        "    shuffle = True, \n",
        "    num_workers=2\n",
        ")\n",
        "\n",
        "test_loader = torch.utils.data.DataLoader(\n",
        "    dataset = test_dataset, \n",
        "    batch_size = 64,\n",
        "    shuffle = False, \n",
        "    num_workers = 2\n",
        ")"
      ],
      "execution_count": 0,
      "outputs": []
    },
    {
      "cell_type": "code",
      "metadata": {
        "id": "H3Yn2UAm-t3I",
        "colab_type": "code",
        "outputId": "1f47be12-b41f-428b-8fb7-1542be4f19df",
        "colab": {
          "base_uri": "https://localhost:8080/",
          "height": 87
        }
      },
      "source": [
        "# check tensor's shape\n",
        "\n",
        "for images, labels in train_loader:\n",
        "  print(images.size())\n",
        "  print(images.dtype)\n",
        "  print(images[0].size())\n",
        "  print(labels.size())\n",
        "  # insert training code\n",
        "  \n",
        "  break"
      ],
      "execution_count": 4,
      "outputs": [
        {
          "output_type": "stream",
          "text": [
            "torch.Size([64, 3, 32, 32])\n",
            "torch.float32\n",
            "torch.Size([3, 32, 32])\n",
            "torch.Size([64])\n"
          ],
          "name": "stdout"
        }
      ]
    },
    {
      "cell_type": "code",
      "metadata": {
        "id": "lDUDMFsW77pE",
        "colab_type": "code",
        "outputId": "224b090f-9e08-474c-f430-142f3a650d3a",
        "colab": {
          "base_uri": "https://localhost:8080/",
          "height": 334
        }
      },
      "source": [
        "class AlexNet(nn.Module):\n",
        "  def __init__(self, num_classes=10):\n",
        "    super(AlexNet, self).__init__()\n",
        "    self.features = nn.Sequential(\n",
        "      nn.Conv2d(3, 64, kernel_size=11, stride=4, padding=5),\n",
        "      nn.ReLU(inplace=True),\n",
        "      nn.MaxPool2d(kernel_size=2, stride=2),\n",
        "      nn.Conv2d(64, 192, kernel_size=5, padding=2),\n",
        "      nn.ReLU(inplace=True),\n",
        "      nn.MaxPool2d(kernel_size=2, stride=2),\n",
        "      nn.Conv2d(192, 384, kernel_size=3, padding=1),\n",
        "      nn.ReLU(inplace=True),\n",
        "      nn.Conv2d(384, 256, kernel_size=3, padding=1),\n",
        "      nn.ReLU(inplace=True),\n",
        "      nn.Conv2d(256, 256, kernel_size=3, padding=1),\n",
        "      nn.ReLU(inplace=True),\n",
        "      nn.MaxPool2d(kernel_size=2, stride=2)                                   \n",
        "    )\n",
        "    self.classifier = nn.Linear(256, num_classes)\n",
        "\n",
        "  def forward(self, x):\n",
        "    x = self.features(x)\n",
        "    x = x.view(x.size(0), -1)\n",
        "    x = self.classifier(x)\n",
        "    return x\n",
        "  \n",
        "device = 'cuda' if torch.cuda.is_available() else 'cpu'\n",
        "\n",
        "net = AlexNet().to(device) #<--- \n",
        "\n",
        "criterion = nn.CrossEntropyLoss()\n",
        "optimizer = torch.optim.SGD(net.parameters(), lr=0.01, momentum=0.9, weight_decay=5e-4)\n",
        "\n",
        "net"
      ],
      "execution_count": 10,
      "outputs": [
        {
          "output_type": "execute_result",
          "data": {
            "text/plain": [
              "AlexNet(\n",
              "  (features): Sequential(\n",
              "    (0): Conv2d(3, 64, kernel_size=(11, 11), stride=(4, 4), padding=(5, 5))\n",
              "    (1): ReLU(inplace=True)\n",
              "    (2): MaxPool2d(kernel_size=2, stride=2, padding=0, dilation=1, ceil_mode=False)\n",
              "    (3): Conv2d(64, 192, kernel_size=(5, 5), stride=(1, 1), padding=(2, 2))\n",
              "    (4): ReLU(inplace=True)\n",
              "    (5): MaxPool2d(kernel_size=2, stride=2, padding=0, dilation=1, ceil_mode=False)\n",
              "    (6): Conv2d(192, 384, kernel_size=(3, 3), stride=(1, 1), padding=(1, 1))\n",
              "    (7): ReLU(inplace=True)\n",
              "    (8): Conv2d(384, 256, kernel_size=(3, 3), stride=(1, 1), padding=(1, 1))\n",
              "    (9): ReLU(inplace=True)\n",
              "    (10): Conv2d(256, 256, kernel_size=(3, 3), stride=(1, 1), padding=(1, 1))\n",
              "    (11): ReLU(inplace=True)\n",
              "    (12): MaxPool2d(kernel_size=2, stride=2, padding=0, dilation=1, ceil_mode=False)\n",
              "  )\n",
              "  (classifier): Linear(in_features=256, out_features=10, bias=True)\n",
              ")"
            ]
          },
          "metadata": {
            "tags": []
          },
          "execution_count": 10
        }
      ]
    },
    {
      "cell_type": "code",
      "metadata": {
        "id": "3zofIIbUAzH8",
        "colab_type": "code",
        "outputId": "a9591a7e-c888-4fb6-adc1-a8994aea5cf7",
        "colab": {
          "base_uri": "https://localhost:8080/",
          "height": 34
        }
      },
      "source": [
        "print(device)"
      ],
      "execution_count": 11,
      "outputs": [
        {
          "output_type": "stream",
          "text": [
            "cuda\n"
          ],
          "name": "stdout"
        }
      ]
    },
    {
      "cell_type": "code",
      "metadata": {
        "id": "Loe3xfw2-UqI",
        "colab_type": "code",
        "colab": {}
      },
      "source": [
        "# training\n",
        "def train(net, criterion, optimizer, train_loader, test_loader, device, num_epoch=50):\n",
        "\n",
        "  train_loss_list = []\n",
        "  train_acc_list = []\n",
        "  val_loss_list = []\n",
        "  val_acc_list = []\n",
        "\n",
        "  for epoch in range(num_epoch):\n",
        "    train_loss = 0\n",
        "    train_acc = 0\n",
        "    val_loss = 0\n",
        "    val_acc = 0\n",
        "\n",
        "    # train=====\n",
        "    # change training mode\n",
        "    net.train()\n",
        "\n",
        "    for i, (images, labels) in enumerate(train_loader):\n",
        "      images = images.to(device)\n",
        "      labels = labels.to(device)\n",
        "      \n",
        "      # reset  gradient\n",
        "      optimizer.zero_grad()\n",
        "\n",
        "      # forward propagation\n",
        "      outputs = net(images)\n",
        "\n",
        "      # calc loss\n",
        "      loss = criterion(outputs, labels)\n",
        "\n",
        "      train_loss += loss.item()\n",
        "\n",
        "      train_acc += (outputs.max(1)[1] == labels).sum().item()\n",
        "\n",
        "      # back propagation\n",
        "      loss.backward()\n",
        "\n",
        "      # update weight\n",
        "      optimizer.step()\n",
        "\n",
        "    # average loss and accuracy\n",
        "    avg_train_loss = train_loss / len(train_loader.dataset)\n",
        "    avg_train_acc = train_acc / len(train_loader.dataset)\n",
        "\n",
        "    # val====\n",
        "    # change evaluation mode\n",
        "    net.eval()\n",
        "\n",
        "    with torch.no_grad():\n",
        "      for images, labels in test_loader:\n",
        "        images = images.to(device)\n",
        "        labels = labels.to(device)\n",
        "\n",
        "        outputs = net(images)\n",
        "        loss = criterion(outputs, labels)\n",
        "\n",
        "        val_loss += loss.item()\n",
        "        val_acc += (outputs.max(1)[1]==labels).sum().item()\n",
        "    \n",
        "      avg_val_loss = val_loss / len(test_loader.dataset)\n",
        "      avg_val_acc = val_acc / len(test_loader.dataset)\n",
        "\n",
        "    # output loss and acc of training and test\n",
        "\n",
        "    print('Epoc [{}/{}], loss: {loss:.4f}, val_loss: {val_loss:.4f}, val_acc: {val_acc:.4f}'.format(\n",
        "      epoch+1, num_epoch, i+1, loss=avg_train_loss, val_loss=avg_val_loss, val_acc=avg_val_acc))\n",
        "\n",
        "    # store data to plot graph\n",
        "    train_loss_list.append(avg_train_loss)\n",
        "    train_acc_list.append(avg_train_acc)\n",
        "    val_loss_list.append(avg_val_loss)\n",
        "    val_acc_list.append(avg_val_acc)\n",
        "\n",
        "  return train_loss_list, train_acc_list, val_loss_list, val_acc_list, net,"
      ],
      "execution_count": 0,
      "outputs": []
    },
    {
      "cell_type": "code",
      "metadata": {
        "id": "VHFTL_qF_D1x",
        "colab_type": "code",
        "outputId": "021970d6-2b54-41f4-e016-02ba6769ea08",
        "colab": {
          "base_uri": "https://localhost:8080/",
          "height": 897
        }
      },
      "source": [
        "train_loss_list, train_acc_list, val_loss_list, val_acc_list, net = train(net, criterion, optimizer, train_loader, test_loader, device, num_epoch=50)"
      ],
      "execution_count": 13,
      "outputs": [
        {
          "output_type": "stream",
          "text": [
            "Epoc [1/50], loss: 0.0347, val_loss: 0.0310, val_acc: 0.2556\n",
            "Epoc [2/50], loss: 0.0279, val_loss: 0.0243, val_acc: 0.4171\n",
            "Epoc [3/50], loss: 0.0236, val_loss: 0.0226, val_acc: 0.4813\n",
            "Epoc [4/50], loss: 0.0211, val_loss: 0.0215, val_acc: 0.5059\n",
            "Epoc [5/50], loss: 0.0196, val_loss: 0.0202, val_acc: 0.5358\n",
            "Epoc [6/50], loss: 0.0180, val_loss: 0.0200, val_acc: 0.5476\n",
            "Epoc [7/50], loss: 0.0167, val_loss: 0.0181, val_acc: 0.5926\n",
            "Epoc [8/50], loss: 0.0155, val_loss: 0.0179, val_acc: 0.6003\n",
            "Epoc [9/50], loss: 0.0142, val_loss: 0.0181, val_acc: 0.6006\n",
            "Epoc [10/50], loss: 0.0133, val_loss: 0.0173, val_acc: 0.6198\n",
            "Epoc [11/50], loss: 0.0123, val_loss: 0.0171, val_acc: 0.6293\n",
            "Epoc [12/50], loss: 0.0112, val_loss: 0.0166, val_acc: 0.6426\n",
            "Epoc [13/50], loss: 0.0103, val_loss: 0.0167, val_acc: 0.6486\n",
            "Epoc [14/50], loss: 0.0093, val_loss: 0.0174, val_acc: 0.6306\n",
            "Epoc [15/50], loss: 0.0084, val_loss: 0.0183, val_acc: 0.6383\n",
            "Epoc [16/50], loss: 0.0078, val_loss: 0.0176, val_acc: 0.6449\n",
            "Epoc [17/50], loss: 0.0068, val_loss: 0.0197, val_acc: 0.6277\n",
            "Epoc [18/50], loss: 0.0064, val_loss: 0.0187, val_acc: 0.6419\n",
            "Epoc [19/50], loss: 0.0058, val_loss: 0.0202, val_acc: 0.6410\n",
            "Epoc [20/50], loss: 0.0050, val_loss: 0.0208, val_acc: 0.6365\n",
            "Epoc [21/50], loss: 0.0047, val_loss: 0.0219, val_acc: 0.6356\n",
            "Epoc [22/50], loss: 0.0042, val_loss: 0.0223, val_acc: 0.6358\n",
            "Epoc [23/50], loss: 0.0040, val_loss: 0.0221, val_acc: 0.6317\n",
            "Epoc [24/50], loss: 0.0037, val_loss: 0.0237, val_acc: 0.6162\n",
            "Epoc [25/50], loss: 0.0034, val_loss: 0.0239, val_acc: 0.6377\n",
            "Epoc [26/50], loss: 0.0030, val_loss: 0.0238, val_acc: 0.6417\n",
            "Epoc [27/50], loss: 0.0033, val_loss: 0.0255, val_acc: 0.6261\n",
            "Epoc [28/50], loss: 0.0029, val_loss: 0.0258, val_acc: 0.6080\n",
            "Epoc [29/50], loss: 0.0029, val_loss: 0.0246, val_acc: 0.6436\n",
            "Epoc [30/50], loss: 0.0026, val_loss: 0.0266, val_acc: 0.6299\n",
            "Epoc [31/50], loss: 0.0022, val_loss: 0.0255, val_acc: 0.6377\n",
            "Epoc [32/50], loss: 0.0024, val_loss: 0.0266, val_acc: 0.6299\n",
            "Epoc [33/50], loss: 0.0022, val_loss: 0.0262, val_acc: 0.6291\n",
            "Epoc [34/50], loss: 0.0022, val_loss: 0.0263, val_acc: 0.6463\n",
            "Epoc [35/50], loss: 0.0021, val_loss: 0.0262, val_acc: 0.6380\n",
            "Epoc [36/50], loss: 0.0019, val_loss: 0.0266, val_acc: 0.6338\n",
            "Epoc [37/50], loss: 0.0020, val_loss: 0.0274, val_acc: 0.6416\n",
            "Epoc [38/50], loss: 0.0020, val_loss: 0.0261, val_acc: 0.6415\n",
            "Epoc [39/50], loss: 0.0019, val_loss: 0.0264, val_acc: 0.6343\n",
            "Epoc [40/50], loss: 0.0019, val_loss: 0.0262, val_acc: 0.6259\n",
            "Epoc [41/50], loss: 0.0018, val_loss: 0.0269, val_acc: 0.6349\n",
            "Epoc [42/50], loss: 0.0019, val_loss: 0.0274, val_acc: 0.6428\n",
            "Epoc [43/50], loss: 0.0017, val_loss: 0.0260, val_acc: 0.6392\n",
            "Epoc [44/50], loss: 0.0017, val_loss: 0.0264, val_acc: 0.6466\n",
            "Epoc [45/50], loss: 0.0016, val_loss: 0.0295, val_acc: 0.6269\n",
            "Epoc [46/50], loss: 0.0019, val_loss: 0.0277, val_acc: 0.6353\n",
            "Epoc [47/50], loss: 0.0018, val_loss: 0.0269, val_acc: 0.6343\n",
            "Epoc [48/50], loss: 0.0018, val_loss: 0.0271, val_acc: 0.6398\n",
            "Epoc [49/50], loss: 0.0016, val_loss: 0.0279, val_acc: 0.6363\n",
            "Epoc [50/50], loss: 0.0018, val_loss: 0.0268, val_acc: 0.6429\n"
          ],
          "name": "stdout"
        }
      ]
    },
    {
      "cell_type": "markdown",
      "metadata": {
        "id": "wGwIFfnOAO5E",
        "colab_type": "text"
      },
      "source": [
        "# Simulation Results"
      ]
    },
    {
      "cell_type": "code",
      "metadata": {
        "id": "Pj2Mrv01_GwF",
        "colab_type": "code",
        "colab": {
          "base_uri": "https://localhost:8080/",
          "height": 295
        },
        "outputId": "1a149132-6119-4a82-de32-339dfa27f060"
      },
      "source": [
        "num_epoch=50\n",
        "plt.figure()\n",
        "\n",
        "plt.plot(range(num_epoch), train_loss_list, color='blue', linestyle='-', label='train_loss')\n",
        "plt.plot(range(num_epoch), val_loss_list, color='green', linestyle='--', label='val_loss')\n",
        "plt.legend()\n",
        "plt.xlabel('epoch')\n",
        "plt.ylabel('loss')\n",
        "plt.title('Training and validation loss')\n",
        "plt.grid()\n",
        "plt.show()"
      ],
      "execution_count": 14,
      "outputs": [
        {
          "output_type": "display_data",
          "data": {
            "image/png": "[encoded data removed]",
            "text/plain": [
              "<Figure size 432x288 with 1 Axes>"
            ]
          },
          "metadata": {
            "tags": []
          }
        }
      ]
    },
    {
      "cell_type": "code",
      "metadata": {
        "id": "J3v9auYwBek0",
        "colab_type": "code",
        "colab": {
          "base_uri": "https://localhost:8080/",
          "height": 295
        },
        "outputId": "a347ed2e-e612-4da4-b265-88e7f8fe7a47"
      },
      "source": [
        "num_epoch=50\n",
        "plt.figure()\n",
        "\n",
        "plt.plot(range(num_epoch), train_acc_list, color='blue', linestyle='-', label='train_acc')\n",
        "plt.plot(range(num_epoch), val_acc_list, color='green', linestyle='--', label='val_acc')\n",
        "plt.legend()\n",
        "plt.xlabel('epoch')\n",
        "plt.ylabel('acc')\n",
        "plt.title('Training and validation acc')\n",
        "plt.grid()\n",
        "plt.show()"
      ],
      "execution_count": 15,
      "outputs": [
        {
          "output_type": "display_data",
          "data": {
            "image/png": "[encoded data removed]",
            "text/plain": [
              "<Figure size 432x288 with 1 Axes>"
            ]
          },
          "metadata": {
            "tags": []
          }
        }
      ]
    },
    {
      "cell_type": "code",
      "metadata": {
        "id": "CXZnrYOeBpd-",
        "colab_type": "code",
        "colab": {}
      },
      "source": [
        ""
      ],
      "execution_count": 0,
      "outputs": []
    }
  ]
}