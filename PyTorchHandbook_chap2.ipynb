{
  "nbformat": 4,
  "nbformat_minor": 0,
  "metadata": {
    "colab": {
      "name": "PyTorchHandbook_chap2.ipynb",
      "provenance": [],
      "collapsed_sections": [],
      "include_colab_link": true
    },
    "kernelspec": {
      "name": "python3",
      "display_name": "Python 3"
    },
    "accelerator": "GPU"
  },
  "cells": [
    {
      "cell_type": "markdown",
      "metadata": {
        "id": "view-in-github",
        "colab_type": "text"
      },
      "source": [
        "<a href=\"https://colab.research.google.com/github/santolina/pytorch_handbook/blob/master/PyTorchHandbook_chap2.ipynb\" target=\"_parent\"><img src=\"https://colab.research.google.com/assets/colab-badge.svg\" alt=\"Open In Colab\"/></a>"
      ]
    },
    {
      "cell_type": "code",
      "metadata": {
        "id": "kVAuFbUhog2r",
        "colab_type": "code",
        "outputId": "8f9e51ce-3ef3-4994-d3e7-183757b0137c",
        "colab": {
          "base_uri": "https://localhost:8080/",
          "height": 153
        }
      },
      "source": [
        "# isntall torch\n",
        "!pip install torch\n",
        "!pip install torchvision"
      ],
      "execution_count": 1,
      "outputs": [
        {
          "output_type": "stream",
          "text": [
            "Requirement already satisfied: torch in /usr/local/lib/python3.6/dist-packages (1.3.1)\n",
            "Requirement already satisfied: numpy in /usr/local/lib/python3.6/dist-packages (from torch) (1.17.4)\n",
            "Requirement already satisfied: torchvision in /usr/local/lib/python3.6/dist-packages (0.4.2)\n",
            "Requirement already satisfied: six in /usr/local/lib/python3.6/dist-packages (from torchvision) (1.12.0)\n",
            "Requirement already satisfied: torch==1.3.1 in /usr/local/lib/python3.6/dist-packages (from torchvision) (1.3.1)\n",
            "Requirement already satisfied: numpy in /usr/local/lib/python3.6/dist-packages (from torchvision) (1.17.4)\n",
            "Requirement already satisfied: pillow>=4.1.1 in /usr/local/lib/python3.6/dist-packages (from torchvision) (4.3.0)\n",
            "Requirement already satisfied: olefile in /usr/local/lib/python3.6/dist-packages (from pillow>=4.1.1->torchvision) (0.46)\n"
          ],
          "name": "stdout"
        }
      ]
    },
    {
      "cell_type": "code",
      "metadata": {
        "id": "a0ZCi60po48o",
        "colab_type": "code",
        "colab": {}
      },
      "source": [
        "import torch\n",
        "import numpy as np"
      ],
      "execution_count": 0,
      "outputs": []
    },
    {
      "cell_type": "code",
      "metadata": {
        "id": "FvH0qx4epB60",
        "colab_type": "code",
        "outputId": "dbd40576-f3de-4adf-ad4e-a24a8d5b3202",
        "colab": {
          "base_uri": "https://localhost:8080/",
          "height": 34
        }
      },
      "source": [
        "torch.__version__"
      ],
      "execution_count": 3,
      "outputs": [
        {
          "output_type": "execute_result",
          "data": {
            "text/plain": [
              "'1.3.1'"
            ]
          },
          "metadata": {
            "tags": []
          },
          "execution_count": 3
        }
      ]
    },
    {
      "cell_type": "markdown",
      "metadata": {
        "id": "t6aZW0v11GV6",
        "colab_type": "text"
      },
      "source": [
        "# Section 2.2 Tensor"
      ]
    },
    {
      "cell_type": "code",
      "metadata": {
        "id": "3lx4oQm_pDbp",
        "colab_type": "code",
        "outputId": "162a47da-103a-490f-e4be-e7796703896f",
        "colab": {
          "base_uri": "https://localhost:8080/",
          "height": 34
        }
      },
      "source": [
        "# Sec 2.2 Tensor\n",
        "\n",
        "torch_array = torch.tensor([0, 1, 2, 3])\n",
        "torch_array"
      ],
      "execution_count": 4,
      "outputs": [
        {
          "output_type": "execute_result",
          "data": {
            "text/plain": [
              "tensor([0, 1, 2, 3])"
            ]
          },
          "metadata": {
            "tags": []
          },
          "execution_count": 4
        }
      ]
    },
    {
      "cell_type": "code",
      "metadata": {
        "id": "6IAz9FG_pTuM",
        "colab_type": "code",
        "outputId": "35a0210b-39d2-447e-a2d1-0758adee37e0",
        "colab": {
          "base_uri": "https://localhost:8080/",
          "height": 34
        }
      },
      "source": [
        "np_array = np.array([0, 1, 2, 3])\n",
        "np_array"
      ],
      "execution_count": 5,
      "outputs": [
        {
          "output_type": "execute_result",
          "data": {
            "text/plain": [
              "array([0, 1, 2, 3])"
            ]
          },
          "metadata": {
            "tags": []
          },
          "execution_count": 5
        }
      ]
    },
    {
      "cell_type": "code",
      "metadata": {
        "id": "AGgwQDhBpcrm",
        "colab_type": "code",
        "outputId": "f6efc757-d1ad-42ab-88e8-82132f7629e0",
        "colab": {
          "base_uri": "https://localhost:8080/",
          "height": 34
        }
      },
      "source": [
        "# convert np_array to torch_array\n",
        "torch_array = torch.from_numpy(np_array)\n",
        "torch_array"
      ],
      "execution_count": 6,
      "outputs": [
        {
          "output_type": "execute_result",
          "data": {
            "text/plain": [
              "tensor([0, 1, 2, 3])"
            ]
          },
          "metadata": {
            "tags": []
          },
          "execution_count": 6
        }
      ]
    },
    {
      "cell_type": "code",
      "metadata": {
        "id": "gyEmt7U6pl2A",
        "colab_type": "code",
        "outputId": "75350528-09f0-4380-fd93-28d7ff4915f2",
        "colab": {
          "base_uri": "https://localhost:8080/",
          "height": 34
        }
      },
      "source": [
        "type(torch_array)"
      ],
      "execution_count": 7,
      "outputs": [
        {
          "output_type": "execute_result",
          "data": {
            "text/plain": [
              "torch.Tensor"
            ]
          },
          "metadata": {
            "tags": []
          },
          "execution_count": 7
        }
      ]
    },
    {
      "cell_type": "code",
      "metadata": {
        "id": "9AIz3-G0pofz",
        "colab_type": "code",
        "outputId": "f8d32dcc-3602-48d3-a269-c446ba19509c",
        "colab": {
          "base_uri": "https://localhost:8080/",
          "height": 34
        }
      },
      "source": [
        "# tensor to np.array, example of 1D array\n",
        "torch2np_array = torch_array.numpy()\n",
        "torch2np_array"
      ],
      "execution_count": 8,
      "outputs": [
        {
          "output_type": "execute_result",
          "data": {
            "text/plain": [
              "array([0, 1, 2, 3])"
            ]
          },
          "metadata": {
            "tags": []
          },
          "execution_count": 8
        }
      ]
    },
    {
      "cell_type": "code",
      "metadata": {
        "id": "65lhWSRipyLn",
        "colab_type": "code",
        "outputId": "4e38dbaa-74ac-467b-c438-5af243aaa487",
        "colab": {
          "base_uri": "https://localhost:8080/",
          "height": 34
        }
      },
      "source": [
        "type(torch2np_array)"
      ],
      "execution_count": 9,
      "outputs": [
        {
          "output_type": "execute_result",
          "data": {
            "text/plain": [
              "numpy.ndarray"
            ]
          },
          "metadata": {
            "tags": []
          },
          "execution_count": 9
        }
      ]
    },
    {
      "cell_type": "code",
      "metadata": {
        "id": "j8RLcvnTp0me",
        "colab_type": "code",
        "outputId": "6f68a24a-9ef6-44a8-f66a-704c26005e0b",
        "colab": {
          "base_uri": "https://localhost:8080/",
          "height": 85
        }
      },
      "source": [
        "# tensor to np.array, example of 2D array\n",
        "np_array = np.array(np.arange(16).reshape([4,4]))\n",
        "torch_array = torch.from_numpy(np_array)\n",
        "torch2np_array = torch_array.numpy()\n",
        "torch_array"
      ],
      "execution_count": 10,
      "outputs": [
        {
          "output_type": "execute_result",
          "data": {
            "text/plain": [
              "tensor([[ 0,  1,  2,  3],\n",
              "        [ 4,  5,  6,  7],\n",
              "        [ 8,  9, 10, 11],\n",
              "        [12, 13, 14, 15]])"
            ]
          },
          "metadata": {
            "tags": []
          },
          "execution_count": 10
        }
      ]
    },
    {
      "cell_type": "code",
      "metadata": {
        "id": "3S2h-C25qEDQ",
        "colab_type": "code",
        "outputId": "782f176a-d3ec-490c-e5f3-794b1a102a97",
        "colab": {
          "base_uri": "https://localhost:8080/",
          "height": 204
        }
      },
      "source": [
        "# tensor to np.array, example of 3D array\n",
        "np_array = np.array(np.arange(27).reshape([3,3,3]))\n",
        "torch_array = torch.from_numpy(np_array)\n",
        "torch2np_array = torch_array.numpy()\n",
        "torch2np_array"
      ],
      "execution_count": 11,
      "outputs": [
        {
          "output_type": "execute_result",
          "data": {
            "text/plain": [
              "array([[[ 0,  1,  2],\n",
              "        [ 3,  4,  5],\n",
              "        [ 6,  7,  8]],\n",
              "\n",
              "       [[ 9, 10, 11],\n",
              "        [12, 13, 14],\n",
              "        [15, 16, 17]],\n",
              "\n",
              "       [[18, 19, 20],\n",
              "        [21, 22, 23],\n",
              "        [24, 25, 26]]])"
            ]
          },
          "metadata": {
            "tags": []
          },
          "execution_count": 11
        }
      ]
    },
    {
      "cell_type": "code",
      "metadata": {
        "id": "5JR5h4FHql3_",
        "colab_type": "code",
        "outputId": "47f97fab-5d0f-4cd3-f993-0d354b7bbf5d",
        "colab": {
          "base_uri": "https://localhost:8080/",
          "height": 34
        }
      },
      "source": [
        "# torch.arange\n",
        "torch_array = torch.arange(10)\n",
        "torch_array"
      ],
      "execution_count": 12,
      "outputs": [
        {
          "output_type": "execute_result",
          "data": {
            "text/plain": [
              "tensor([0, 1, 2, 3, 4, 5, 6, 7, 8, 9])"
            ]
          },
          "metadata": {
            "tags": []
          },
          "execution_count": 12
        }
      ]
    },
    {
      "cell_type": "code",
      "metadata": {
        "id": "lARmZBLzqxxP",
        "colab_type": "code",
        "outputId": "85e08685-54d9-4ae3-93d6-786322ad27f2",
        "colab": {
          "base_uri": "https://localhost:8080/",
          "height": 68
        }
      },
      "source": [
        "a = torch.arange(10)\n",
        "b = torch.arange(10)/2\n",
        "c = a+b\n",
        "c, a, b"
      ],
      "execution_count": 13,
      "outputs": [
        {
          "output_type": "execute_result",
          "data": {
            "text/plain": [
              "(tensor([ 0,  1,  3,  4,  6,  7,  9, 10, 12, 13]),\n",
              " tensor([0, 1, 2, 3, 4, 5, 6, 7, 8, 9]),\n",
              " tensor([0, 0, 1, 1, 2, 2, 3, 3, 4, 4]))"
            ]
          },
          "metadata": {
            "tags": []
          },
          "execution_count": 13
        }
      ]
    },
    {
      "cell_type": "code",
      "metadata": {
        "id": "2IPM1y-vq-i0",
        "colab_type": "code",
        "outputId": "f1af1686-d353-44cc-c789-a39826517ede",
        "colab": {
          "base_uri": "https://localhost:8080/",
          "height": 34
        }
      },
      "source": [
        "c = a*b\n",
        "c"
      ],
      "execution_count": 14,
      "outputs": [
        {
          "output_type": "execute_result",
          "data": {
            "text/plain": [
              "tensor([ 0,  0,  2,  3,  8, 10, 18, 21, 32, 36])"
            ]
          },
          "metadata": {
            "tags": []
          },
          "execution_count": 14
        }
      ]
    },
    {
      "cell_type": "code",
      "metadata": {
        "id": "b3pijKrirA9k",
        "colab_type": "code",
        "outputId": "0395ef82-ebdb-4a37-8ccf-09c5c0fe25a4",
        "colab": {
          "base_uri": "https://localhost:8080/",
          "height": 34
        }
      },
      "source": [
        "c = a@b\n",
        "c"
      ],
      "execution_count": 15,
      "outputs": [
        {
          "output_type": "execute_result",
          "data": {
            "text/plain": [
              "tensor(130)"
            ]
          },
          "metadata": {
            "tags": []
          },
          "execution_count": 15
        }
      ]
    },
    {
      "cell_type": "code",
      "metadata": {
        "id": "avwJkq2yrJuo",
        "colab_type": "code",
        "outputId": "df5165be-7772-4db4-d510-3a6617b3e29d",
        "colab": {
          "base_uri": "https://localhost:8080/",
          "height": 34
        }
      },
      "source": [
        "# torch.linspace\n",
        "torch_array = torch.linspace(0, 1, 6)\n",
        "torch_array"
      ],
      "execution_count": 16,
      "outputs": [
        {
          "output_type": "execute_result",
          "data": {
            "text/plain": [
              "tensor([0.0000, 0.2000, 0.4000, 0.6000, 0.8000, 1.0000])"
            ]
          },
          "metadata": {
            "tags": []
          },
          "execution_count": 16
        }
      ]
    },
    {
      "cell_type": "code",
      "metadata": {
        "id": "-76ARpHmrVEa",
        "colab_type": "code",
        "outputId": "4b80115f-db43-47fd-8391-7c6bdcbcc3ae",
        "colab": {
          "base_uri": "https://localhost:8080/",
          "height": 68
        }
      },
      "source": [
        "# torch.ones\n",
        "torch_array = torch.ones([3,3])\n",
        "torch_array"
      ],
      "execution_count": 17,
      "outputs": [
        {
          "output_type": "execute_result",
          "data": {
            "text/plain": [
              "tensor([[1., 1., 1.],\n",
              "        [1., 1., 1.],\n",
              "        [1., 1., 1.]])"
            ]
          },
          "metadata": {
            "tags": []
          },
          "execution_count": 17
        }
      ]
    },
    {
      "cell_type": "code",
      "metadata": {
        "id": "Fw-aqY_Pra_6",
        "colab_type": "code",
        "outputId": "eb2ac7b0-a752-4961-ff8c-2a93d672d150",
        "colab": {
          "base_uri": "https://localhost:8080/",
          "height": 85
        }
      },
      "source": [
        "# torch.zeros\n",
        "torch_array = torch.zeros([4,4])\n",
        "torch_array"
      ],
      "execution_count": 18,
      "outputs": [
        {
          "output_type": "execute_result",
          "data": {
            "text/plain": [
              "tensor([[0., 0., 0., 0.],\n",
              "        [0., 0., 0., 0.],\n",
              "        [0., 0., 0., 0.],\n",
              "        [0., 0., 0., 0.]])"
            ]
          },
          "metadata": {
            "tags": []
          },
          "execution_count": 18
        }
      ]
    },
    {
      "cell_type": "code",
      "metadata": {
        "id": "LqOgj5u0rg65",
        "colab_type": "code",
        "outputId": "638ffa67-7636-4d1c-ecfe-65b58ceb6318",
        "colab": {
          "base_uri": "https://localhost:8080/",
          "height": 34
        }
      },
      "source": [
        "# torch.randn\n",
        "torch_array = torch.randn(4)\n",
        "torch_array "
      ],
      "execution_count": 19,
      "outputs": [
        {
          "output_type": "execute_result",
          "data": {
            "text/plain": [
              "tensor([-0.9942,  1.9328,  0.9196, -0.5386])"
            ]
          },
          "metadata": {
            "tags": []
          },
          "execution_count": 19
        }
      ]
    },
    {
      "cell_type": "code",
      "metadata": {
        "id": "pJVu_RJCrqqN",
        "colab_type": "code",
        "outputId": "133ce124-980c-416f-882b-48b8b7da4b8e",
        "colab": {
          "base_uri": "https://localhost:8080/",
          "height": 119
        }
      },
      "source": [
        "# Reshape\n",
        "torch_array = torch.arange(10)\n",
        "print(torch_array)\n",
        "torch_array = torch_array.view(5,2)\n",
        "print(torch_array)"
      ],
      "execution_count": 20,
      "outputs": [
        {
          "output_type": "stream",
          "text": [
            "tensor([0, 1, 2, 3, 4, 5, 6, 7, 8, 9])\n",
            "tensor([[0, 1],\n",
            "        [2, 3],\n",
            "        [4, 5],\n",
            "        [6, 7],\n",
            "        [8, 9]])\n"
          ],
          "name": "stdout"
        }
      ]
    },
    {
      "cell_type": "code",
      "metadata": {
        "id": "RWnZDXLXvjoH",
        "colab_type": "code",
        "outputId": "98b82365-3998-4d06-e888-45b3a7b848e1",
        "colab": {
          "base_uri": "https://localhost:8080/",
          "height": 136
        }
      },
      "source": [
        "# swap axis\n",
        "torch_array = torch.arange(10)\n",
        "torch_array = torch_array.view(5,2)\n",
        "print(torch_array)\n",
        "torch_array = torch_array.transpose(0,1)\n",
        "print(torch_array)"
      ],
      "execution_count": 21,
      "outputs": [
        {
          "output_type": "stream",
          "text": [
            "tensor([[0, 1],\n",
            "        [2, 3],\n",
            "        [4, 5],\n",
            "        [6, 7],\n",
            "        [8, 9]])\n",
            "tensor([[0, 2, 4, 6, 8],\n",
            "        [1, 3, 5, 7, 9]])\n"
          ],
          "name": "stdout"
        }
      ]
    },
    {
      "cell_type": "code",
      "metadata": {
        "id": "PPhdjpn4v24N",
        "colab_type": "code",
        "outputId": "6fc5de9d-7ae3-482b-f35c-386bf7581eeb",
        "colab": {
          "base_uri": "https://localhost:8080/",
          "height": 391
        }
      },
      "source": [
        "torch_array = torch.arange(27).view(3,3,3)\n",
        "print(torch_array)\n",
        "torch_array = torch_array.transpose(1,2)\n",
        "print(torch_array)"
      ],
      "execution_count": 22,
      "outputs": [
        {
          "output_type": "stream",
          "text": [
            "tensor([[[ 0,  1,  2],\n",
            "         [ 3,  4,  5],\n",
            "         [ 6,  7,  8]],\n",
            "\n",
            "        [[ 9, 10, 11],\n",
            "         [12, 13, 14],\n",
            "         [15, 16, 17]],\n",
            "\n",
            "        [[18, 19, 20],\n",
            "         [21, 22, 23],\n",
            "         [24, 25, 26]]])\n",
            "tensor([[[ 0,  3,  6],\n",
            "         [ 1,  4,  7],\n",
            "         [ 2,  5,  8]],\n",
            "\n",
            "        [[ 9, 12, 15],\n",
            "         [10, 13, 16],\n",
            "         [11, 14, 17]],\n",
            "\n",
            "        [[18, 21, 24],\n",
            "         [19, 22, 25],\n",
            "         [20, 23, 26]]])\n"
          ],
          "name": "stdout"
        }
      ]
    },
    {
      "cell_type": "code",
      "metadata": {
        "id": "P9mWtBoNv9Rv",
        "colab_type": "code",
        "outputId": "2becc392-59ef-4110-b2a4-9b7c54f61249",
        "colab": {
          "base_uri": "https://localhost:8080/",
          "height": 391
        }
      },
      "source": [
        "torch_array = torch.arange(27).view(3,3,3)\n",
        "print(torch_array)\n",
        "torch_array = torch_array.transpose(0,2)\n",
        "print(torch_array)"
      ],
      "execution_count": 23,
      "outputs": [
        {
          "output_type": "stream",
          "text": [
            "tensor([[[ 0,  1,  2],\n",
            "         [ 3,  4,  5],\n",
            "         [ 6,  7,  8]],\n",
            "\n",
            "        [[ 9, 10, 11],\n",
            "         [12, 13, 14],\n",
            "         [15, 16, 17]],\n",
            "\n",
            "        [[18, 19, 20],\n",
            "         [21, 22, 23],\n",
            "         [24, 25, 26]]])\n",
            "tensor([[[ 0,  9, 18],\n",
            "         [ 3, 12, 21],\n",
            "         [ 6, 15, 24]],\n",
            "\n",
            "        [[ 1, 10, 19],\n",
            "         [ 4, 13, 22],\n",
            "         [ 7, 16, 25]],\n",
            "\n",
            "        [[ 2, 11, 20],\n",
            "         [ 5, 14, 23],\n",
            "         [ 8, 17, 26]]])\n"
          ],
          "name": "stdout"
        }
      ]
    },
    {
      "cell_type": "code",
      "metadata": {
        "id": "iw4Pqsz3wouP",
        "colab_type": "code",
        "outputId": "aec60c1e-369e-4e2c-a1ca-1029c0f92a79",
        "colab": {
          "base_uri": "https://localhost:8080/",
          "height": 391
        }
      },
      "source": [
        "torch_array = torch.arange(27).view(3,3,3)\n",
        "print(torch_array)\n",
        "torch_array = torch_array.transpose(0,1)\n",
        "print(torch_array)"
      ],
      "execution_count": 24,
      "outputs": [
        {
          "output_type": "stream",
          "text": [
            "tensor([[[ 0,  1,  2],\n",
            "         [ 3,  4,  5],\n",
            "         [ 6,  7,  8]],\n",
            "\n",
            "        [[ 9, 10, 11],\n",
            "         [12, 13, 14],\n",
            "         [15, 16, 17]],\n",
            "\n",
            "        [[18, 19, 20],\n",
            "         [21, 22, 23],\n",
            "         [24, 25, 26]]])\n",
            "tensor([[[ 0,  1,  2],\n",
            "         [ 9, 10, 11],\n",
            "         [18, 19, 20]],\n",
            "\n",
            "        [[ 3,  4,  5],\n",
            "         [12, 13, 14],\n",
            "         [21, 22, 23]],\n",
            "\n",
            "        [[ 6,  7,  8],\n",
            "         [15, 16, 17],\n",
            "         [24, 25, 26]]])\n"
          ],
          "name": "stdout"
        }
      ]
    },
    {
      "cell_type": "code",
      "metadata": {
        "id": "x0qQzTTVwwAD",
        "colab_type": "code",
        "outputId": "603dbf73-9773-47c9-dab8-d75c3faffc3e",
        "colab": {
          "base_uri": "https://localhost:8080/",
          "height": 34
        }
      },
      "source": [
        "# specify by index\n",
        "torch_array = torch.arange(10)\n",
        "torch_array[2]"
      ],
      "execution_count": 25,
      "outputs": [
        {
          "output_type": "execute_result",
          "data": {
            "text/plain": [
              "tensor(2)"
            ]
          },
          "metadata": {
            "tags": []
          },
          "execution_count": 25
        }
      ]
    },
    {
      "cell_type": "code",
      "metadata": {
        "id": "SWidrp-zw_ek",
        "colab_type": "code",
        "outputId": "a5677479-7696-4252-8602-baa6dde12b31",
        "colab": {
          "base_uri": "https://localhost:8080/",
          "height": 34
        }
      },
      "source": [
        "# slice\n",
        "torch_array[2:7]"
      ],
      "execution_count": 26,
      "outputs": [
        {
          "output_type": "execute_result",
          "data": {
            "text/plain": [
              "tensor([2, 3, 4, 5, 6])"
            ]
          },
          "metadata": {
            "tags": []
          },
          "execution_count": 26
        }
      ]
    },
    {
      "cell_type": "code",
      "metadata": {
        "id": "0N-UfhOhxCYX",
        "colab_type": "code",
        "outputId": "f2bda9b6-50e2-4baa-8cf9-4f3c3b9bbfa3",
        "colab": {
          "base_uri": "https://localhost:8080/",
          "height": 68
        }
      },
      "source": [
        "# element-wise addition\n",
        "x1 = torch.arange(4)\n",
        "print(x1)\n",
        "print(torch.add(x1, 4))\n",
        "\n",
        "# element-wise multiplication\n",
        "x1 = torch.arange(4)\n",
        "print(torch.mul(x1, 4))"
      ],
      "execution_count": 27,
      "outputs": [
        {
          "output_type": "stream",
          "text": [
            "tensor([0, 1, 2, 3])\n",
            "tensor([4, 5, 6, 7])\n",
            "tensor([ 0,  4,  8, 12])\n"
          ],
          "name": "stdout"
        }
      ]
    },
    {
      "cell_type": "code",
      "metadata": {
        "id": "GsVh8T8TxWAU",
        "colab_type": "code",
        "outputId": "ac3f9c49-571a-4c2b-bfa3-6efc2c3874cf",
        "colab": {
          "base_uri": "https://localhost:8080/",
          "height": 68
        }
      },
      "source": [
        "# various calculation\n",
        "# inner product\n",
        "x1 = torch.arange(4)\n",
        "x2 = torch.arange(4)\n",
        "print(torch.matmul(x1,x2))\n",
        "print(torch.dot(x1,x2))\n",
        "print(x1@x2)"
      ],
      "execution_count": 28,
      "outputs": [
        {
          "output_type": "stream",
          "text": [
            "tensor(14)\n",
            "tensor(14)\n",
            "tensor(14)\n"
          ],
          "name": "stdout"
        }
      ]
    },
    {
      "cell_type": "code",
      "metadata": {
        "id": "CQyaKbwwxvoW",
        "colab_type": "code",
        "outputId": "eaa4a10d-2f70-4ce6-c89f-fb6fce0e6b4b",
        "colab": {
          "base_uri": "https://localhost:8080/",
          "height": 51
        }
      },
      "source": [
        "# product by mat and vector\n",
        "X1 = torch.arange(8).view(2,4)\n",
        "x2 = torch.arange(4)\n",
        "print(torch.matmul(X1, x2))\n",
        "print(torch.mv(X1, x2))\n"
      ],
      "execution_count": 29,
      "outputs": [
        {
          "output_type": "stream",
          "text": [
            "tensor([14, 38])\n",
            "tensor([14, 38])\n"
          ],
          "name": "stdout"
        }
      ]
    },
    {
      "cell_type": "code",
      "metadata": {
        "id": "qnHjNsiDx_iR",
        "colab_type": "code",
        "outputId": "a68143d0-33e3-443e-d058-15226e709784",
        "colab": {
          "base_uri": "https://localhost:8080/",
          "height": 119
        }
      },
      "source": [
        "# product by mat and mat\n",
        "X1 = torch.arange(8).view(2,4)\n",
        "X2 = torch.arange(8).view(2,4).t()\n",
        "print(torch.matmul(X1,X2))\n",
        "print(torch.mm(X1,X2))\n",
        "print(X1@X2)"
      ],
      "execution_count": 30,
      "outputs": [
        {
          "output_type": "stream",
          "text": [
            "tensor([[ 14,  38],\n",
            "        [ 38, 126]])\n",
            "tensor([[ 14,  38],\n",
            "        [ 38, 126]])\n",
            "tensor([[ 14,  38],\n",
            "        [ 38, 126]])\n"
          ],
          "name": "stdout"
        }
      ]
    },
    {
      "cell_type": "code",
      "metadata": {
        "id": "2At5TCwZyPu4",
        "colab_type": "code",
        "outputId": "be271123-c801-4c0d-9f55-830fdc11f5bb",
        "colab": {
          "base_uri": "https://localhost:8080/",
          "height": 459
        }
      },
      "source": [
        "# various calculation 2\n",
        "# matmul by mat with shape=(2,4) and mat with shape=(4,2)\n",
        "X1 = torch.arange(24).view(-1, 2, 4)\n",
        "X2 = torch.arange(24).view(-1, 4, 2)\n",
        "print(X1.size())\n",
        "print(X2.size())\n",
        "print(torch.matmul(X1, X2))\n",
        "print(torch.bmm(X1,X2))\n",
        "print(X1@X2)"
      ],
      "execution_count": 31,
      "outputs": [
        {
          "output_type": "stream",
          "text": [
            "torch.Size([3, 2, 4])\n",
            "torch.Size([3, 4, 2])\n",
            "tensor([[[  28,   34],\n",
            "         [  76,   98]],\n",
            "\n",
            "        [[ 428,  466],\n",
            "         [ 604,  658]],\n",
            "\n",
            "        [[1340, 1410],\n",
            "         [1644, 1730]]])\n",
            "tensor([[[  28,   34],\n",
            "         [  76,   98]],\n",
            "\n",
            "        [[ 428,  466],\n",
            "         [ 604,  658]],\n",
            "\n",
            "        [[1340, 1410],\n",
            "         [1644, 1730]]])\n",
            "tensor([[[  28,   34],\n",
            "         [  76,   98]],\n",
            "\n",
            "        [[ 428,  466],\n",
            "         [ 604,  658]],\n",
            "\n",
            "        [[1340, 1410],\n",
            "         [1644, 1730]]])\n"
          ],
          "name": "stdout"
        }
      ]
    },
    {
      "cell_type": "code",
      "metadata": {
        "id": "TB1whJm6y41d",
        "colab_type": "code",
        "outputId": "758dc191-4bb2-4688-9d23-b816340a18a4",
        "colab": {
          "base_uri": "https://localhost:8080/",
          "height": 34
        }
      },
      "source": [
        "# data type\n",
        "np_array = np.array([1,2,3])\n",
        "np_array.dtype"
      ],
      "execution_count": 32,
      "outputs": [
        {
          "output_type": "execute_result",
          "data": {
            "text/plain": [
              "dtype('int64')"
            ]
          },
          "metadata": {
            "tags": []
          },
          "execution_count": 32
        }
      ]
    },
    {
      "cell_type": "code",
      "metadata": {
        "id": "DHt4aYBmzJi2",
        "colab_type": "code",
        "outputId": "fec1bef1-375d-4cab-cab2-cfeab896de40",
        "colab": {
          "base_uri": "https://localhost:8080/",
          "height": 34
        }
      },
      "source": [
        "np_array = np.array([1.,2.,3.])\n",
        "np_array.dtype"
      ],
      "execution_count": 33,
      "outputs": [
        {
          "output_type": "execute_result",
          "data": {
            "text/plain": [
              "dtype('float64')"
            ]
          },
          "metadata": {
            "tags": []
          },
          "execution_count": 33
        }
      ]
    },
    {
      "cell_type": "code",
      "metadata": {
        "id": "zlkHqSlwzOyR",
        "colab_type": "code",
        "outputId": "9e1138b0-6246-4ee3-8837-4f5548fe8b81",
        "colab": {
          "base_uri": "https://localhost:8080/",
          "height": 34
        }
      },
      "source": [
        "np_array = np.array([0,1,2,3])\n",
        "torch_array = torch.from_numpy(np_array)\n",
        "torch_array.type()"
      ],
      "execution_count": 34,
      "outputs": [
        {
          "output_type": "execute_result",
          "data": {
            "text/plain": [
              "'torch.LongTensor'"
            ]
          },
          "metadata": {
            "tags": []
          },
          "execution_count": 34
        }
      ]
    },
    {
      "cell_type": "code",
      "metadata": {
        "id": "dKNv5IT4zZNp",
        "colab_type": "code",
        "outputId": "6939b197-f6e8-4980-f17d-a77e02231b05",
        "colab": {
          "base_uri": "https://localhost:8080/",
          "height": 34
        }
      },
      "source": [
        "torch_array.dtype"
      ],
      "execution_count": 35,
      "outputs": [
        {
          "output_type": "execute_result",
          "data": {
            "text/plain": [
              "torch.int64"
            ]
          },
          "metadata": {
            "tags": []
          },
          "execution_count": 35
        }
      ]
    },
    {
      "cell_type": "code",
      "metadata": {
        "id": "uGSfmIPRzgL1",
        "colab_type": "code",
        "outputId": "382efa1c-3574-428f-bfbd-73060badef0f",
        "colab": {
          "base_uri": "https://localhost:8080/",
          "height": 34
        }
      },
      "source": [
        "np_array = np.array([0.,1.,2.,3.])\n",
        "torch_array = torch.from_numpy(np_array)\n",
        "torch_array.type()"
      ],
      "execution_count": 36,
      "outputs": [
        {
          "output_type": "execute_result",
          "data": {
            "text/plain": [
              "'torch.DoubleTensor'"
            ]
          },
          "metadata": {
            "tags": []
          },
          "execution_count": 36
        }
      ]
    },
    {
      "cell_type": "code",
      "metadata": {
        "id": "3TowBz_XzrjE",
        "colab_type": "code",
        "outputId": "7d27f980-c941-4629-a55e-560e5a0d5dd2",
        "colab": {
          "base_uri": "https://localhost:8080/",
          "height": 34
        }
      },
      "source": [
        "torch_array.dtype"
      ],
      "execution_count": 37,
      "outputs": [
        {
          "output_type": "execute_result",
          "data": {
            "text/plain": [
              "torch.float64"
            ]
          },
          "metadata": {
            "tags": []
          },
          "execution_count": 37
        }
      ]
    },
    {
      "cell_type": "code",
      "metadata": {
        "id": "RV5OpHCczxzp",
        "colab_type": "code",
        "outputId": "c6b5a1c5-36a0-4f2b-962c-cd0fbb5aea94",
        "colab": {
          "base_uri": "https://localhost:8080/",
          "height": 34
        }
      },
      "source": [
        "np_array = np.array([1,2,3], dtype=float)\n",
        "np_array.dtype"
      ],
      "execution_count": 38,
      "outputs": [
        {
          "output_type": "execute_result",
          "data": {
            "text/plain": [
              "dtype('float64')"
            ]
          },
          "metadata": {
            "tags": []
          },
          "execution_count": 38
        }
      ]
    },
    {
      "cell_type": "code",
      "metadata": {
        "id": "pov9xeKHz61y",
        "colab_type": "code",
        "outputId": "cba269bc-e0fe-4e7c-9c32-fc7a407cd827",
        "colab": {
          "base_uri": "https://localhost:8080/",
          "height": 34
        }
      },
      "source": [
        "np_array = np.array([1,2,3]).astype(np.float)\n",
        "torch_array = torch.from_numpy(np_array)\n",
        "torch_array.dtype"
      ],
      "execution_count": 39,
      "outputs": [
        {
          "output_type": "execute_result",
          "data": {
            "text/plain": [
              "torch.float64"
            ]
          },
          "metadata": {
            "tags": []
          },
          "execution_count": 39
        }
      ]
    },
    {
      "cell_type": "code",
      "metadata": {
        "id": "8PJih4ns0FW2",
        "colab_type": "code",
        "outputId": "15f36bf8-4738-4cd0-cf3b-3b7a501c72d3",
        "colab": {
          "base_uri": "https://localhost:8080/",
          "height": 34
        }
      },
      "source": [
        "np_array = np.array([1,2,3], dtype=\"int64\")\n",
        "torch_array = torch.from_numpy(np_array)\n",
        "torch_array.dtype"
      ],
      "execution_count": 40,
      "outputs": [
        {
          "output_type": "execute_result",
          "data": {
            "text/plain": [
              "torch.int64"
            ]
          },
          "metadata": {
            "tags": []
          },
          "execution_count": 40
        }
      ]
    },
    {
      "cell_type": "code",
      "metadata": {
        "id": "NCgBNeZ00Zwv",
        "colab_type": "code",
        "outputId": "cc7f54a5-75e7-4b1c-ce86-2bd16c208e35",
        "colab": {
          "base_uri": "https://localhost:8080/",
          "height": 34
        }
      },
      "source": [
        "torch_array.type()"
      ],
      "execution_count": 41,
      "outputs": [
        {
          "output_type": "execute_result",
          "data": {
            "text/plain": [
              "'torch.LongTensor'"
            ]
          },
          "metadata": {
            "tags": []
          },
          "execution_count": 41
        }
      ]
    },
    {
      "cell_type": "code",
      "metadata": {
        "id": "OC_M_sSg0cc-",
        "colab_type": "code",
        "outputId": "5f711f33-a209-4d73-ba83-31abe97c0e6e",
        "colab": {
          "base_uri": "https://localhost:8080/",
          "height": 68
        }
      },
      "source": [
        "# shape check\n",
        "xf_numpy = np.ndarray([2,3], dtype='float32')\n",
        "print(xf_numpy)\n",
        "print(xf_numpy.shape)"
      ],
      "execution_count": 42,
      "outputs": [
        {
          "output_type": "stream",
          "text": [
            "[[0.    1.875 0.   ]\n",
            " [2.    0.    2.125]]\n",
            "(2, 3)\n"
          ],
          "name": "stdout"
        }
      ]
    },
    {
      "cell_type": "code",
      "metadata": {
        "id": "h3bC7dCh0vQY",
        "colab_type": "code",
        "outputId": "12337941-7d1c-4607-9908-26acf73cf5cc",
        "colab": {
          "base_uri": "https://localhost:8080/",
          "height": 68
        }
      },
      "source": [
        "xf_torch = torch.FloatTensor(2,3)\n",
        "print(xf_torch)\n",
        "print(xf_torch.shape)"
      ],
      "execution_count": 43,
      "outputs": [
        {
          "output_type": "stream",
          "text": [
            "tensor([[1.2214e-37, 0.0000e+00, 3.7835e-44],\n",
            "        [0.0000e+00,        nan, 0.0000e+00]])\n",
            "torch.Size([2, 3])\n"
          ],
          "name": "stdout"
        }
      ]
    },
    {
      "cell_type": "code",
      "metadata": {
        "id": "9z7AT8xr09CR",
        "colab_type": "code",
        "colab": {}
      },
      "source": [
        ""
      ],
      "execution_count": 0,
      "outputs": []
    },
    {
      "cell_type": "markdown",
      "metadata": {
        "id": "-omif3QD1K4w",
        "colab_type": "text"
      },
      "source": [
        "# Section 2.3 Network Definition\n"
      ]
    },
    {
      "cell_type": "code",
      "metadata": {
        "id": "JyerfWfV1O43",
        "colab_type": "code",
        "colab": {
          "base_uri": "https://localhost:8080/",
          "height": 119
        },
        "outputId": "d432ecca-7995-47e4-e98a-16dd101c0de8"
      },
      "source": [
        "#1 network define using sequential manner\n",
        "\n",
        "import torch.nn as nn\n",
        "\n",
        "model = nn.Sequential(\n",
        "    nn.Conv2d(1, 20, 5),\n",
        "    nn.ReLU(),\n",
        "    nn.Conv2d(20, 60, 5),\n",
        "    nn.ReLU()\n",
        ")\n",
        "\n",
        "model"
      ],
      "execution_count": 44,
      "outputs": [
        {
          "output_type": "execute_result",
          "data": {
            "text/plain": [
              "Sequential(\n",
              "  (0): Conv2d(1, 20, kernel_size=(5, 5), stride=(1, 1))\n",
              "  (1): ReLU()\n",
              "  (2): Conv2d(20, 60, kernel_size=(5, 5), stride=(1, 1))\n",
              "  (3): ReLU()\n",
              ")"
            ]
          },
          "metadata": {
            "tags": []
          },
          "execution_count": 44
        }
      ]
    },
    {
      "cell_type": "code",
      "metadata": {
        "id": "Ed9Brpimt6_T",
        "colab_type": "code",
        "colab": {
          "base_uri": "https://localhost:8080/",
          "height": 119
        },
        "outputId": "a4ee869d-a538-4ba6-bc35-c6704f3558c2"
      },
      "source": [
        "#2 network define using add module\n",
        "model = torch.nn.Sequential()\n",
        "\n",
        "model.add_module('conv1', nn.Conv2d(1,20,5))\n",
        "model.add_module('relu1', nn.ReLU())\n",
        "model.add_module('conv2', nn.Conv2d(20,64,5))\n",
        "model.add_module('relu2', nn.ReLU())\n",
        "\n",
        "model"
      ],
      "execution_count": 45,
      "outputs": [
        {
          "output_type": "execute_result",
          "data": {
            "text/plain": [
              "Sequential(\n",
              "  (conv1): Conv2d(1, 20, kernel_size=(5, 5), stride=(1, 1))\n",
              "  (relu1): ReLU()\n",
              "  (conv2): Conv2d(20, 64, kernel_size=(5, 5), stride=(1, 1))\n",
              "  (relu2): ReLU()\n",
              ")"
            ]
          },
          "metadata": {
            "tags": []
          },
          "execution_count": 45
        }
      ]
    },
    {
      "cell_type": "code",
      "metadata": {
        "id": "iMEO2eSDvFA2",
        "colab_type": "code",
        "colab": {
          "base_uri": "https://localhost:8080/",
          "height": 119
        },
        "outputId": "9b9e8423-88d0-4d39-b1dd-0a56983ca543"
      },
      "source": [
        "#3 network define using OrderedDict\n",
        "from collections import OrderedDict\n",
        "\n",
        "layersDict = OrderedDict([\n",
        "                          ('conv1', nn.Conv2d(1, 20, 5)),\n",
        "                          ('relu1', nn.ReLU()),\n",
        "                          ('conv2', nn.Conv2d(20, 60, 5)),\n",
        "                          ('relu2', nn.ReLU())])\n",
        "\n",
        "model = nn.Sequential(layersDict)\n",
        "model\n"
      ],
      "execution_count": 46,
      "outputs": [
        {
          "output_type": "execute_result",
          "data": {
            "text/plain": [
              "Sequential(\n",
              "  (conv1): Conv2d(1, 20, kernel_size=(5, 5), stride=(1, 1))\n",
              "  (relu1): ReLU()\n",
              "  (conv2): Conv2d(20, 60, kernel_size=(5, 5), stride=(1, 1))\n",
              "  (relu2): ReLU()\n",
              ")"
            ]
          },
          "metadata": {
            "tags": []
          },
          "execution_count": 46
        }
      ]
    },
    {
      "cell_type": "code",
      "metadata": {
        "id": "Vt8SF-S2v6Vz",
        "colab_type": "code",
        "colab": {
          "base_uri": "https://localhost:8080/",
          "height": 119
        },
        "outputId": "0268f8e6-3a50-4887-b7c9-0e6f7f91ed2f"
      },
      "source": [
        "layers = OrderedDict()\n",
        "layers['conv1'] = nn.Conv2d(1, 20, 5)\n",
        "layers['relu1'] = nn.ReLU()\n",
        "layers['conv2'] = nn.Conv2d(20, 60, 5)\n",
        "layers['relu2'] = nn.ReLU()\n",
        "\n",
        "model = nn.Sequential(layers)\n",
        "model"
      ],
      "execution_count": 47,
      "outputs": [
        {
          "output_type": "execute_result",
          "data": {
            "text/plain": [
              "Sequential(\n",
              "  (conv1): Conv2d(1, 20, kernel_size=(5, 5), stride=(1, 1))\n",
              "  (relu1): ReLU()\n",
              "  (conv2): Conv2d(20, 60, kernel_size=(5, 5), stride=(1, 1))\n",
              "  (relu2): ReLU()\n",
              ")"
            ]
          },
          "metadata": {
            "tags": []
          },
          "execution_count": 47
        }
      ]
    },
    {
      "cell_type": "code",
      "metadata": {
        "id": "qOHG5ioFwUPD",
        "colab_type": "code",
        "colab": {
          "base_uri": "https://localhost:8080/",
          "height": 85
        },
        "outputId": "ff4f3c0c-cc92-4b71-bfcc-789b8631f923"
      },
      "source": [
        "# network define using functional API\n",
        "# using nn.Module\n",
        "\n",
        "import torch.nn as nn\n",
        "import torch.nn.functional as F\n",
        "\n",
        "class Model(nn.Module):\n",
        "  def __init__(self):\n",
        "    super(Model, self).__init__()\n",
        "    self.conv1 = nn.Conv2d(1, 20, 5)\n",
        "    self.conv2 = nn.Conv2d(20, 64, 5)\n",
        "\n",
        "  def foward(self, x):\n",
        "    x = F.relu(self.conv1(x))\n",
        "    x = F.relu(self.conv2(x))\n",
        "    return x\n",
        "\n",
        "model = Model()  \n",
        "model"
      ],
      "execution_count": 48,
      "outputs": [
        {
          "output_type": "execute_result",
          "data": {
            "text/plain": [
              "Model(\n",
              "  (conv1): Conv2d(1, 20, kernel_size=(5, 5), stride=(1, 1))\n",
              "  (conv2): Conv2d(20, 64, kernel_size=(5, 5), stride=(1, 1))\n",
              ")"
            ]
          },
          "metadata": {
            "tags": []
          },
          "execution_count": 48
        }
      ]
    },
    {
      "cell_type": "code",
      "metadata": {
        "id": "YIJ6nrSmxojd",
        "colab_type": "code",
        "colab": {
          "base_uri": "https://localhost:8080/",
          "height": 119
        },
        "outputId": "53a8575e-22e3-4b0f-ef75-650ccb763e31"
      },
      "source": [
        "# network define using functional API\n",
        "# using nn.Module\n",
        "\n",
        "import torch.nn as nn\n",
        "import torch.nn.functional as F\n",
        "\n",
        "class Model(nn.Module):\n",
        "  def __init__(self):\n",
        "    super(Model, self).__init__()\n",
        "    self.conv1 = nn.Conv2d(1, 20, 5)\n",
        "    self.conv2 = nn.Conv2d(20, 64, 5)\n",
        "    self.relu1 = nn.ReLU()\n",
        "    self.relu2 = nn.ReLU()\n",
        "\n",
        "  def foward(self, x):\n",
        "    x = self.relu1(self.conv1(x))\n",
        "    x = self.relu2(self.conv2(x))\n",
        "    return x\n",
        "\n",
        "model = Model()  \n",
        "model"
      ],
      "execution_count": 49,
      "outputs": [
        {
          "output_type": "execute_result",
          "data": {
            "text/plain": [
              "Model(\n",
              "  (conv1): Conv2d(1, 20, kernel_size=(5, 5), stride=(1, 1))\n",
              "  (conv2): Conv2d(20, 64, kernel_size=(5, 5), stride=(1, 1))\n",
              "  (relu1): ReLU()\n",
              "  (relu2): ReLU()\n",
              ")"
            ]
          },
          "metadata": {
            "tags": []
          },
          "execution_count": 49
        }
      ]
    },
    {
      "cell_type": "code",
      "metadata": {
        "id": "nPZECVwXx7DT",
        "colab_type": "code",
        "colab": {
          "base_uri": "https://localhost:8080/",
          "height": 119
        },
        "outputId": "e264e8a4-fb05-4fef-b8f3-d612a336ed60"
      },
      "source": [
        "# network define using functional API and nn.ModuleList\n",
        "\n",
        "class Model(nn.Module):\n",
        "  def __init__(self):\n",
        "    super(Model, self).__init__()\n",
        "    self.convs = nn.ModuleList(\n",
        "        [\n",
        "         nn.Conv2d(1 ,20, 5),\n",
        "         nn.Conv2d(20, 64, 5)         \n",
        "        ])\n",
        "\n",
        "  def forward(self, x):\n",
        "    for i, l in enumerate(self.convs):\n",
        "      x = F.relu(l(x))\n",
        "    return x\n",
        "\n",
        "model = Model()\n",
        "model"
      ],
      "execution_count": 50,
      "outputs": [
        {
          "output_type": "execute_result",
          "data": {
            "text/plain": [
              "Model(\n",
              "  (convs): ModuleList(\n",
              "    (0): Conv2d(1, 20, kernel_size=(5, 5), stride=(1, 1))\n",
              "    (1): Conv2d(20, 64, kernel_size=(5, 5), stride=(1, 1))\n",
              "  )\n",
              ")"
            ]
          },
          "metadata": {
            "tags": []
          },
          "execution_count": 50
        }
      ]
    },
    {
      "cell_type": "code",
      "metadata": {
        "id": "5hGLpjmQywHm",
        "colab_type": "code",
        "colab": {
          "base_uri": "https://localhost:8080/",
          "height": 153
        },
        "outputId": "a463205e-3bb6-4b84-facd-9e5ff7a38ca6"
      },
      "source": [
        "# network define using functional API and nn.ModuleList\n",
        "\n",
        "class Model(nn.Module):\n",
        "  def __init__(self):\n",
        "    super(Model, self).__init__()\n",
        "    self.convs = nn.ModuleList(\n",
        "        [\n",
        "         nn.Conv2d(1 ,20, 5),\n",
        "         nn.ReLU(),\n",
        "         nn.Conv2d(20, 64, 5),\n",
        "         nn.ReLU()\n",
        "        ])\n",
        "\n",
        "  def forward(self, x):\n",
        "    for i, l in enumerate(self.convs):\n",
        "      x = l(x)\n",
        "    return x\n",
        "\n",
        "model = Model()\n",
        "model"
      ],
      "execution_count": 51,
      "outputs": [
        {
          "output_type": "execute_result",
          "data": {
            "text/plain": [
              "Model(\n",
              "  (convs): ModuleList(\n",
              "    (0): Conv2d(1, 20, kernel_size=(5, 5), stride=(1, 1))\n",
              "    (1): ReLU()\n",
              "    (2): Conv2d(20, 64, kernel_size=(5, 5), stride=(1, 1))\n",
              "    (3): ReLU()\n",
              "  )\n",
              ")"
            ]
          },
          "metadata": {
            "tags": []
          },
          "execution_count": 51
        }
      ]
    },
    {
      "cell_type": "code",
      "metadata": {
        "id": "LgX__uBBy-IP",
        "colab_type": "code",
        "colab": {
          "base_uri": "https://localhost:8080/",
          "height": 153
        },
        "outputId": "053b1fb4-4573-4026-87ea-fd1a063bea6d"
      },
      "source": [
        "# network define using functional API and nn.ModuleDict\n",
        "\n",
        "class Model(nn.Module):\n",
        "  def __init__(self):\n",
        "    super(Model, self).__init__()\n",
        "    self.convs = nn.ModuleDict(\n",
        "        {\n",
        "          'conv1': nn.Conv2d(1, 20, 5),\n",
        "          'relu1': nn.ReLU(),\n",
        "          'conv2': nn.Conv2d(20, 64, 5),\n",
        "          'relu2': nn.ReLU()\n",
        "        }\n",
        "    )\n",
        "\n",
        "  def forward(self, x):\n",
        "    for l in self.convs.values():\n",
        "      x = l(x)\n",
        "    return x\n",
        "\n",
        "model = Model()\n",
        "model"
      ],
      "execution_count": 52,
      "outputs": [
        {
          "output_type": "execute_result",
          "data": {
            "text/plain": [
              "Model(\n",
              "  (convs): ModuleDict(\n",
              "    (conv1): Conv2d(1, 20, kernel_size=(5, 5), stride=(1, 1))\n",
              "    (conv2): Conv2d(20, 64, kernel_size=(5, 5), stride=(1, 1))\n",
              "    (relu1): ReLU()\n",
              "    (relu2): ReLU()\n",
              "  )\n",
              ")"
            ]
          },
          "metadata": {
            "tags": []
          },
          "execution_count": 52
        }
      ]
    },
    {
      "cell_type": "code",
      "metadata": {
        "id": "AYn2FVD4zwur",
        "colab_type": "code",
        "colab": {}
      },
      "source": [
        ""
      ],
      "execution_count": 0,
      "outputs": []
    },
    {
      "cell_type": "markdown",
      "metadata": {
        "id": "VJc5O5Dm0XUv",
        "colab_type": "text"
      },
      "source": [
        "# AutoGrad"
      ]
    },
    {
      "cell_type": "code",
      "metadata": {
        "id": "DZ1J9Dp50Y2b",
        "colab_type": "code",
        "colab": {
          "base_uri": "https://localhost:8080/",
          "height": 34
        },
        "outputId": "afded2fe-bb4b-4ac0-c1f6-6c5f7602247a"
      },
      "source": [
        "# define tensor\n",
        "x = torch.tensor(1, requires_grad=True, dtype=torch.float32)\n",
        "w = torch.tensor(2, requires_grad=True, dtype=torch.float32)\n",
        "b = torch.tensor(3, requires_grad=True, dtype=torch.float32)\n",
        "\n",
        "# define graph\n",
        "\n",
        "y = w * x + b\n",
        "\n",
        "print(y)\n"
      ],
      "execution_count": 53,
      "outputs": [
        {
          "output_type": "stream",
          "text": [
            "tensor(5., grad_fn=<AddBackward0>)\n"
          ],
          "name": "stdout"
        }
      ]
    },
    {
      "cell_type": "code",
      "metadata": {
        "id": "ylivKlgj0v4A",
        "colab_type": "code",
        "colab": {
          "base_uri": "https://localhost:8080/",
          "height": 34
        },
        "outputId": "8c4d5898-a301-480a-b1a2-53c31c68c106"
      },
      "source": [
        "# check gradient\n",
        "print(y.backward())"
      ],
      "execution_count": 54,
      "outputs": [
        {
          "output_type": "stream",
          "text": [
            "None\n"
          ],
          "name": "stdout"
        }
      ]
    },
    {
      "cell_type": "code",
      "metadata": {
        "id": "f1TPrE0000QM",
        "colab_type": "code",
        "colab": {
          "base_uri": "https://localhost:8080/",
          "height": 68
        },
        "outputId": "8041d5e2-6ee4-4cc9-c031-bda933e5820d"
      },
      "source": [
        "print(x.grad)\n",
        "print(w.grad)\n",
        "print(b.grad)"
      ],
      "execution_count": 55,
      "outputs": [
        {
          "output_type": "stream",
          "text": [
            "tensor(2.)\n",
            "tensor(1.)\n",
            "tensor(1.)\n"
          ],
          "name": "stdout"
        }
      ]
    },
    {
      "cell_type": "code",
      "metadata": {
        "id": "R5kSMWFj04MF",
        "colab_type": "code",
        "colab": {
          "base_uri": "https://localhost:8080/",
          "height": 51
        },
        "outputId": "adee9ab9-5ec3-4d5c-f9b3-cb396890147a"
      },
      "source": [
        "# Freeze parameter\n",
        "\n",
        "import torchvision\n",
        "\n",
        "net = torchvision.models.vgg16(pretrained=True)\n",
        "for param in net.features.parameters():\n",
        "  param.requires_grad = False"
      ],
      "execution_count": 56,
      "outputs": [
        {
          "output_type": "stream",
          "text": [
            "Downloading: \"https://download.pytorch.org/models/vgg16-397923af.pth\" to /root/.cache/torch/checkpoints/vgg16-397923af.pth\n",
            "100%|██████████| 528M/528M [00:02<00:00, 239MB/s]\n"
          ],
          "name": "stderr"
        }
      ]
    },
    {
      "cell_type": "code",
      "metadata": {
        "id": "bwgf3jAv1L0v",
        "colab_type": "code",
        "colab": {
          "base_uri": "https://localhost:8080/",
          "height": 782
        },
        "outputId": "65e6546e-3f66-4009-e669-ae9ef12834d1"
      },
      "source": [
        "net"
      ],
      "execution_count": 57,
      "outputs": [
        {
          "output_type": "execute_result",
          "data": {
            "text/plain": [
              "VGG(\n",
              "  (features): Sequential(\n",
              "    (0): Conv2d(3, 64, kernel_size=(3, 3), stride=(1, 1), padding=(1, 1))\n",
              "    (1): ReLU(inplace=True)\n",
              "    (2): Conv2d(64, 64, kernel_size=(3, 3), stride=(1, 1), padding=(1, 1))\n",
              "    (3): ReLU(inplace=True)\n",
              "    (4): MaxPool2d(kernel_size=2, stride=2, padding=0, dilation=1, ceil_mode=False)\n",
              "    (5): Conv2d(64, 128, kernel_size=(3, 3), stride=(1, 1), padding=(1, 1))\n",
              "    (6): ReLU(inplace=True)\n",
              "    (7): Conv2d(128, 128, kernel_size=(3, 3), stride=(1, 1), padding=(1, 1))\n",
              "    (8): ReLU(inplace=True)\n",
              "    (9): MaxPool2d(kernel_size=2, stride=2, padding=0, dilation=1, ceil_mode=False)\n",
              "    (10): Conv2d(128, 256, kernel_size=(3, 3), stride=(1, 1), padding=(1, 1))\n",
              "    (11): ReLU(inplace=True)\n",
              "    (12): Conv2d(256, 256, kernel_size=(3, 3), stride=(1, 1), padding=(1, 1))\n",
              "    (13): ReLU(inplace=True)\n",
              "    (14): Conv2d(256, 256, kernel_size=(3, 3), stride=(1, 1), padding=(1, 1))\n",
              "    (15): ReLU(inplace=True)\n",
              "    (16): MaxPool2d(kernel_size=2, stride=2, padding=0, dilation=1, ceil_mode=False)\n",
              "    (17): Conv2d(256, 512, kernel_size=(3, 3), stride=(1, 1), padding=(1, 1))\n",
              "    (18): ReLU(inplace=True)\n",
              "    (19): Conv2d(512, 512, kernel_size=(3, 3), stride=(1, 1), padding=(1, 1))\n",
              "    (20): ReLU(inplace=True)\n",
              "    (21): Conv2d(512, 512, kernel_size=(3, 3), stride=(1, 1), padding=(1, 1))\n",
              "    (22): ReLU(inplace=True)\n",
              "    (23): MaxPool2d(kernel_size=2, stride=2, padding=0, dilation=1, ceil_mode=False)\n",
              "    (24): Conv2d(512, 512, kernel_size=(3, 3), stride=(1, 1), padding=(1, 1))\n",
              "    (25): ReLU(inplace=True)\n",
              "    (26): Conv2d(512, 512, kernel_size=(3, 3), stride=(1, 1), padding=(1, 1))\n",
              "    (27): ReLU(inplace=True)\n",
              "    (28): Conv2d(512, 512, kernel_size=(3, 3), stride=(1, 1), padding=(1, 1))\n",
              "    (29): ReLU(inplace=True)\n",
              "    (30): MaxPool2d(kernel_size=2, stride=2, padding=0, dilation=1, ceil_mode=False)\n",
              "  )\n",
              "  (avgpool): AdaptiveAvgPool2d(output_size=(7, 7))\n",
              "  (classifier): Sequential(\n",
              "    (0): Linear(in_features=25088, out_features=4096, bias=True)\n",
              "    (1): ReLU(inplace=True)\n",
              "    (2): Dropout(p=0.5, inplace=False)\n",
              "    (3): Linear(in_features=4096, out_features=4096, bias=True)\n",
              "    (4): ReLU(inplace=True)\n",
              "    (5): Dropout(p=0.5, inplace=False)\n",
              "    (6): Linear(in_features=4096, out_features=1000, bias=True)\n",
              "  )\n",
              ")"
            ]
          },
          "metadata": {
            "tags": []
          },
          "execution_count": 57
        }
      ]
    },
    {
      "cell_type": "markdown",
      "metadata": {
        "id": "KwpIOhMk1cGk",
        "colab_type": "text"
      },
      "source": [
        "# Enable GPU"
      ]
    },
    {
      "cell_type": "code",
      "metadata": {
        "id": "--CrIRfV1Pg_",
        "colab_type": "code",
        "colab": {}
      },
      "source": [
        "# Enable GPU\n",
        "\n",
        "xf_gpu = torch.FloatTensor(1, 2).to('cuda')"
      ],
      "execution_count": 0,
      "outputs": []
    },
    {
      "cell_type": "code",
      "metadata": {
        "id": "o-B19HKT1k8y",
        "colab_type": "code",
        "colab": {
          "base_uri": "https://localhost:8080/",
          "height": 34
        },
        "outputId": "7e3312b9-e13e-4e59-b71b-4f24e534e260"
      },
      "source": [
        "xf_gpu"
      ],
      "execution_count": 59,
      "outputs": [
        {
          "output_type": "execute_result",
          "data": {
            "text/plain": [
              "tensor([[5.0991e-36, 0.0000e+00]], device='cuda:0')"
            ]
          },
          "metadata": {
            "tags": []
          },
          "execution_count": 59
        }
      ]
    },
    {
      "cell_type": "code",
      "metadata": {
        "id": "G5bz7xzg1zyR",
        "colab_type": "code",
        "colab": {
          "base_uri": "https://localhost:8080/",
          "height": 119
        },
        "outputId": "ae310017-e5d6-42a8-d9fe-613f8ad1ded1"
      },
      "source": [
        "\n",
        "import torch.nn as nn\n",
        "import torch.nn.functional as F\n",
        "\n",
        "class Model(nn.Module):\n",
        "  def __init__(self):\n",
        "    super(Model, self).__init__()\n",
        "    self.conv1 = nn.Conv2d(1, 20, 5)\n",
        "    self.relu1 = nn.ReLU()\n",
        "    self.conv2 = nn.Conv2d(20, 64, 5)\n",
        "    self.relu2 = nn.ReLU()\n",
        "\n",
        "  def forward(self, x):\n",
        "    x = F.relu(self.conv1(x))\n",
        "    x = F.relu(self.conv2(x))\n",
        "    return x\n",
        "\n",
        "net = Model()\n",
        "net.to('cuda')"
      ],
      "execution_count": 60,
      "outputs": [
        {
          "output_type": "execute_result",
          "data": {
            "text/plain": [
              "Model(\n",
              "  (conv1): Conv2d(1, 20, kernel_size=(5, 5), stride=(1, 1))\n",
              "  (relu1): ReLU()\n",
              "  (conv2): Conv2d(20, 64, kernel_size=(5, 5), stride=(1, 1))\n",
              "  (relu2): ReLU()\n",
              ")"
            ]
          },
          "metadata": {
            "tags": []
          },
          "execution_count": 60
        }
      ]
    },
    {
      "cell_type": "code",
      "metadata": {
        "id": "dpFOGm3R2Z3a",
        "colab_type": "code",
        "colab": {}
      },
      "source": [
        ""
      ],
      "execution_count": 0,
      "outputs": []
    },
    {
      "cell_type": "markdown",
      "metadata": {
        "id": "ww23p23M_LqA",
        "colab_type": "text"
      },
      "source": [
        "# Loss Function and Optimization\n"
      ]
    },
    {
      "cell_type": "code",
      "metadata": {
        "id": "h9vGYYM-_N7M",
        "colab_type": "code",
        "colab": {
          "base_uri": "https://localhost:8080/",
          "height": 34
        },
        "outputId": "94105516-14b7-4a59-f089-f49752771af9"
      },
      "source": [
        "# MSELoss\n",
        "x = torch.randn(8)\n",
        "y = torch.randn(8)\n",
        "\n",
        "criterion = nn.MSELoss()\n",
        "loss = criterion(x,y)\n",
        "print(loss)"
      ],
      "execution_count": 61,
      "outputs": [
        {
          "output_type": "stream",
          "text": [
            "tensor(1.4579)\n"
          ],
          "name": "stdout"
        }
      ]
    },
    {
      "cell_type": "code",
      "metadata": {
        "id": "0UgunpgL_cwl",
        "colab_type": "code",
        "colab": {
          "base_uri": "https://localhost:8080/",
          "height": 34
        },
        "outputId": "63993f75-3d98-4d4e-9147-3d6d6669add0"
      },
      "source": [
        "# CrossEntropyLoss\n",
        "x = torch.randn(1, 8)\n",
        "y = torch.LongTensor([1]).random_(8)\n",
        "\n",
        "criterion = nn.CrossEntropyLoss()\n",
        "loss = criterion(x, y)\n",
        "\n",
        "print(loss)"
      ],
      "execution_count": 62,
      "outputs": [
        {
          "output_type": "stream",
          "text": [
            "tensor(1.9565)\n"
          ],
          "name": "stdout"
        }
      ]
    },
    {
      "cell_type": "code",
      "metadata": {
        "id": "AQN_Ty9r_ryn",
        "colab_type": "code",
        "colab": {
          "base_uri": "https://localhost:8080/",
          "height": 68
        },
        "outputId": "2389cfe8-49e0-42ee-853b-3f1deadfe52e"
      },
      "source": [
        "# linear layer for optimization\n",
        "class Net(nn.Module):\n",
        "  def __init__(self):\n",
        "    super(Net, self).__init__()\n",
        "\n",
        "    # nn. Linear\n",
        "    self.lin1 = nn.Linear(in_features=10, out_features=10, bias=False)\n",
        "\n",
        "  def forward(self, x):\n",
        "    x = self.lin1(x)\n",
        "    return x\n",
        "\n",
        "net = Net()\n",
        "net\n",
        "  "
      ],
      "execution_count": 64,
      "outputs": [
        {
          "output_type": "execute_result",
          "data": {
            "text/plain": [
              "Net(\n",
              "  (lin1): Linear(in_features=10, out_features=10, bias=False)\n",
              ")"
            ]
          },
          "metadata": {
            "tags": []
          },
          "execution_count": 64
        }
      ]
    },
    {
      "cell_type": "code",
      "metadata": {
        "id": "Nm6AUk81BG-O",
        "colab_type": "code",
        "colab": {}
      },
      "source": [
        "def solver(opt_conf):\n",
        "  loss_list = [ ]\n",
        "\n",
        "  # generate data\n",
        "  x = torch.randn(1, 10)\n",
        "  w = torch.randn(1, 1)\n",
        "  y = torch.mu(w, x) + 2\n",
        "\n",
        "  # network define\n",
        "  net = Net()\n",
        "\n",
        "  # define loss function\n",
        "  criterion = nn.MSELoss()\n",
        "\n",
        "  # Optimization method\n",
        "  if opt_conf == 'sgd':\n",
        "    optimizer = torch.optim.SGD(net.parameters(), lr=0.1)\n",
        "  elif opt_conf == 'momentum_sgd':\n",
        "    optimizer = torch.optim.SGD(net.parameters(), lr=0.1, momentum=0.9)\n",
        "  elif opt_conf == 'adadelta':\n",
        "    optimizer = torch.optim.Adadelta(nn.parameters(), rho=0.95, eps=1e-04)\n",
        "  elif opt_conf == 'adagrad':\n",
        "    optimizer = torch.optim.Adagrad(net.parameters())\n",
        "  elif opt_conf == 'adam':\n",
        "    optimizer = torch.optim.Adam(net.parameters(), lr=1e-1, betas=(0.9, 0.99), eps=1e-09)\n",
        "  elif opt_conf == 'rmsprop':\n",
        "    optimizer = torch.optim.RMSprop(net.parameters())\n",
        "  else:\n",
        "    print('invalid parameter')\n",
        "    raise\n",
        "\n",
        "  # train\n",
        "\n",
        "  "
      ],
      "execution_count": 0,
      "outputs": []
    }
  ]
}