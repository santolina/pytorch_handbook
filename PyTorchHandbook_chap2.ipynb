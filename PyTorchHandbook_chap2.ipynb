{
  "nbformat": 4,
  "nbformat_minor": 0,
  "metadata": {
    "colab": {
      "name": "PyTorchHandbook_chap2.ipynb",
      "provenance": [],
      "collapsed_sections": [],
      "include_colab_link": true
    },
    "kernelspec": {
      "name": "python3",
      "display_name": "Python 3"
    }
  },
  "cells": [
    {
      "cell_type": "markdown",
      "metadata": {
        "id": "view-in-github",
        "colab_type": "text"
      },
      "source": [
        "<a href=\"https://colab.research.google.com/github/santolina/pytorch_handbook/blob/master/PyTorchHandbook_chap2.ipynb\" target=\"_parent\"><img src=\"https://colab.research.google.com/assets/colab-badge.svg\" alt=\"Open In Colab\"/></a>"
      ]
    },
    {
      "cell_type": "code",
      "metadata": {
        "id": "kVAuFbUhog2r",
        "colab_type": "code",
        "colab": {
          "base_uri": "https://localhost:8080/",
          "height": 153
        },
        "outputId": "21b1faf8-811f-493b-cda0-7444efdff7e5"
      },
      "source": [
        "# isntall torch\n",
        "!pip install torch\n",
        "!pip install torchvision"
      ],
      "execution_count": 1,
      "outputs": [
        {
          "output_type": "stream",
          "text": [
            "Requirement already satisfied: torch in /usr/local/lib/python3.6/dist-packages (1.3.1)\n",
            "Requirement already satisfied: numpy in /usr/local/lib/python3.6/dist-packages (from torch) (1.17.4)\n",
            "Requirement already satisfied: torchvision in /usr/local/lib/python3.6/dist-packages (0.4.2)\n",
            "Requirement already satisfied: numpy in /usr/local/lib/python3.6/dist-packages (from torchvision) (1.17.4)\n",
            "Requirement already satisfied: torch==1.3.1 in /usr/local/lib/python3.6/dist-packages (from torchvision) (1.3.1)\n",
            "Requirement already satisfied: pillow>=4.1.1 in /usr/local/lib/python3.6/dist-packages (from torchvision) (4.3.0)\n",
            "Requirement already satisfied: six in /usr/local/lib/python3.6/dist-packages (from torchvision) (1.12.0)\n",
            "Requirement already satisfied: olefile in /usr/local/lib/python3.6/dist-packages (from pillow>=4.1.1->torchvision) (0.46)\n"
          ],
          "name": "stdout"
        }
      ]
    },
    {
      "cell_type": "code",
      "metadata": {
        "id": "a0ZCi60po48o",
        "colab_type": "code",
        "colab": {}
      },
      "source": [
        "import torch\n",
        "import numpy as np"
      ],
      "execution_count": 0,
      "outputs": []
    },
    {
      "cell_type": "code",
      "metadata": {
        "id": "FvH0qx4epB60",
        "colab_type": "code",
        "colab": {
          "base_uri": "https://localhost:8080/",
          "height": 34
        },
        "outputId": "9e2b9461-4788-4649-8bad-f98209346de4"
      },
      "source": [
        "torch.__version__"
      ],
      "execution_count": 3,
      "outputs": [
        {
          "output_type": "execute_result",
          "data": {
            "text/plain": [
              "'1.3.1'"
            ]
          },
          "metadata": {
            "tags": []
          },
          "execution_count": 3
        }
      ]
    },
    {
      "cell_type": "markdown",
      "metadata": {
        "id": "t6aZW0v11GV6",
        "colab_type": "text"
      },
      "source": [
        "# Section 2.2 Tensor"
      ]
    },
    {
      "cell_type": "code",
      "metadata": {
        "id": "3lx4oQm_pDbp",
        "colab_type": "code",
        "colab": {
          "base_uri": "https://localhost:8080/",
          "height": 34
        },
        "outputId": "fa53f97d-932a-4b08-955d-c02c297b82ca"
      },
      "source": [
        "# Sec 2.2 Tensor\n",
        "\n",
        "torch_array = torch.tensor([0, 1, 2, 3])\n",
        "torch_array"
      ],
      "execution_count": 4,
      "outputs": [
        {
          "output_type": "execute_result",
          "data": {
            "text/plain": [
              "tensor([0, 1, 2, 3])"
            ]
          },
          "metadata": {
            "tags": []
          },
          "execution_count": 4
        }
      ]
    },
    {
      "cell_type": "code",
      "metadata": {
        "id": "6IAz9FG_pTuM",
        "colab_type": "code",
        "colab": {
          "base_uri": "https://localhost:8080/",
          "height": 34
        },
        "outputId": "e3d6e899-7fe3-4a0f-ac4e-544d799bbb3d"
      },
      "source": [
        "np_array = np.array([0, 1, 2, 3])\n",
        "np_array"
      ],
      "execution_count": 6,
      "outputs": [
        {
          "output_type": "execute_result",
          "data": {
            "text/plain": [
              "array([0, 1, 2, 3])"
            ]
          },
          "metadata": {
            "tags": []
          },
          "execution_count": 6
        }
      ]
    },
    {
      "cell_type": "code",
      "metadata": {
        "id": "AGgwQDhBpcrm",
        "colab_type": "code",
        "colab": {
          "base_uri": "https://localhost:8080/",
          "height": 34
        },
        "outputId": "2ba1cb1e-d259-48db-e14f-3155d0e11fa2"
      },
      "source": [
        "# convert np_array to torch_array\n",
        "torch_array = torch.from_numpy(np_array)\n",
        "torch_array"
      ],
      "execution_count": 7,
      "outputs": [
        {
          "output_type": "execute_result",
          "data": {
            "text/plain": [
              "tensor([0, 1, 2, 3])"
            ]
          },
          "metadata": {
            "tags": []
          },
          "execution_count": 7
        }
      ]
    },
    {
      "cell_type": "code",
      "metadata": {
        "id": "gyEmt7U6pl2A",
        "colab_type": "code",
        "colab": {
          "base_uri": "https://localhost:8080/",
          "height": 34
        },
        "outputId": "704280e4-3e65-428a-eb1e-3e77e779148c"
      },
      "source": [
        "type(torch_array)"
      ],
      "execution_count": 8,
      "outputs": [
        {
          "output_type": "execute_result",
          "data": {
            "text/plain": [
              "torch.Tensor"
            ]
          },
          "metadata": {
            "tags": []
          },
          "execution_count": 8
        }
      ]
    },
    {
      "cell_type": "code",
      "metadata": {
        "id": "9AIz3-G0pofz",
        "colab_type": "code",
        "colab": {
          "base_uri": "https://localhost:8080/",
          "height": 34
        },
        "outputId": "26c25ed3-0766-49b7-cf0b-4ecded5032ef"
      },
      "source": [
        "# tensor to np.array, example of 1D array\n",
        "torch2np_array = torch_array.numpy()\n",
        "torch2np_array"
      ],
      "execution_count": 9,
      "outputs": [
        {
          "output_type": "execute_result",
          "data": {
            "text/plain": [
              "array([0, 1, 2, 3])"
            ]
          },
          "metadata": {
            "tags": []
          },
          "execution_count": 9
        }
      ]
    },
    {
      "cell_type": "code",
      "metadata": {
        "id": "65lhWSRipyLn",
        "colab_type": "code",
        "colab": {
          "base_uri": "https://localhost:8080/",
          "height": 34
        },
        "outputId": "6cd52a3f-dc84-4d8d-e4cf-d0b8cd9dc7e1"
      },
      "source": [
        "type(torch2np_array)"
      ],
      "execution_count": 10,
      "outputs": [
        {
          "output_type": "execute_result",
          "data": {
            "text/plain": [
              "numpy.ndarray"
            ]
          },
          "metadata": {
            "tags": []
          },
          "execution_count": 10
        }
      ]
    },
    {
      "cell_type": "code",
      "metadata": {
        "id": "j8RLcvnTp0me",
        "colab_type": "code",
        "colab": {
          "base_uri": "https://localhost:8080/",
          "height": 85
        },
        "outputId": "d95f85e2-7ff3-4e26-9fa0-c2c4936c29e9"
      },
      "source": [
        "# tensor to np.array, example of 2D array\n",
        "np_array = np.array(np.arange(16).reshape([4,4]))\n",
        "torch_array = torch.from_numpy(np_array)\n",
        "torch2np_array = torch_array.numpy()\n",
        "torch_array"
      ],
      "execution_count": 12,
      "outputs": [
        {
          "output_type": "execute_result",
          "data": {
            "text/plain": [
              "tensor([[ 0,  1,  2,  3],\n",
              "        [ 4,  5,  6,  7],\n",
              "        [ 8,  9, 10, 11],\n",
              "        [12, 13, 14, 15]])"
            ]
          },
          "metadata": {
            "tags": []
          },
          "execution_count": 12
        }
      ]
    },
    {
      "cell_type": "code",
      "metadata": {
        "id": "3S2h-C25qEDQ",
        "colab_type": "code",
        "colab": {
          "base_uri": "https://localhost:8080/",
          "height": 204
        },
        "outputId": "af7dac53-11be-4e8d-b627-5364cf45e9b1"
      },
      "source": [
        "# tensor to np.array, example of 3D array\n",
        "np_array = np.array(np.arange(27).reshape([3,3,3]))\n",
        "torch_array = torch.from_numpy(np_array)\n",
        "torch2np_array = torch_array.numpy()\n",
        "torch2np_array"
      ],
      "execution_count": 13,
      "outputs": [
        {
          "output_type": "execute_result",
          "data": {
            "text/plain": [
              "array([[[ 0,  1,  2],\n",
              "        [ 3,  4,  5],\n",
              "        [ 6,  7,  8]],\n",
              "\n",
              "       [[ 9, 10, 11],\n",
              "        [12, 13, 14],\n",
              "        [15, 16, 17]],\n",
              "\n",
              "       [[18, 19, 20],\n",
              "        [21, 22, 23],\n",
              "        [24, 25, 26]]])"
            ]
          },
          "metadata": {
            "tags": []
          },
          "execution_count": 13
        }
      ]
    },
    {
      "cell_type": "code",
      "metadata": {
        "id": "5JR5h4FHql3_",
        "colab_type": "code",
        "colab": {
          "base_uri": "https://localhost:8080/",
          "height": 34
        },
        "outputId": "a89de288-5ff3-407c-b67b-5e07452fb89d"
      },
      "source": [
        "# torch.arange\n",
        "torch_array = torch.arange(10)\n",
        "torch_array"
      ],
      "execution_count": 14,
      "outputs": [
        {
          "output_type": "execute_result",
          "data": {
            "text/plain": [
              "tensor([0, 1, 2, 3, 4, 5, 6, 7, 8, 9])"
            ]
          },
          "metadata": {
            "tags": []
          },
          "execution_count": 14
        }
      ]
    },
    {
      "cell_type": "code",
      "metadata": {
        "id": "lARmZBLzqxxP",
        "colab_type": "code",
        "colab": {
          "base_uri": "https://localhost:8080/",
          "height": 68
        },
        "outputId": "48018cd1-df9c-4a83-ecf5-03c6a085c6cc"
      },
      "source": [
        "a = torch.arange(10)\n",
        "b = torch.arange(10)/2\n",
        "c = a+b\n",
        "c, a, b"
      ],
      "execution_count": 19,
      "outputs": [
        {
          "output_type": "execute_result",
          "data": {
            "text/plain": [
              "(tensor([ 0,  1,  3,  4,  6,  7,  9, 10, 12, 13]),\n",
              " tensor([0, 1, 2, 3, 4, 5, 6, 7, 8, 9]),\n",
              " tensor([0, 0, 1, 1, 2, 2, 3, 3, 4, 4]))"
            ]
          },
          "metadata": {
            "tags": []
          },
          "execution_count": 19
        }
      ]
    },
    {
      "cell_type": "code",
      "metadata": {
        "id": "2IPM1y-vq-i0",
        "colab_type": "code",
        "colab": {
          "base_uri": "https://localhost:8080/",
          "height": 34
        },
        "outputId": "34f207fe-9c04-4486-e1ae-816086ee8281"
      },
      "source": [
        "c = a*b\n",
        "c"
      ],
      "execution_count": 18,
      "outputs": [
        {
          "output_type": "execute_result",
          "data": {
            "text/plain": [
              "tensor([ 0,  0,  2,  3,  8, 10, 18, 21, 32, 36])"
            ]
          },
          "metadata": {
            "tags": []
          },
          "execution_count": 18
        }
      ]
    },
    {
      "cell_type": "code",
      "metadata": {
        "id": "b3pijKrirA9k",
        "colab_type": "code",
        "colab": {
          "base_uri": "https://localhost:8080/",
          "height": 34
        },
        "outputId": "82c8e127-29ee-41c1-e55c-869589800f93"
      },
      "source": [
        "c = a@b\n",
        "c"
      ],
      "execution_count": 21,
      "outputs": [
        {
          "output_type": "execute_result",
          "data": {
            "text/plain": [
              "tensor(130)"
            ]
          },
          "metadata": {
            "tags": []
          },
          "execution_count": 21
        }
      ]
    },
    {
      "cell_type": "code",
      "metadata": {
        "id": "avwJkq2yrJuo",
        "colab_type": "code",
        "colab": {
          "base_uri": "https://localhost:8080/",
          "height": 34
        },
        "outputId": "1da482ae-7529-42c0-8e44-5898adbcb0fd"
      },
      "source": [
        "# torch.linspace\n",
        "torch_array = torch.linspace(0, 1, 6)\n",
        "torch_array"
      ],
      "execution_count": 23,
      "outputs": [
        {
          "output_type": "execute_result",
          "data": {
            "text/plain": [
              "tensor([0.0000, 0.2000, 0.4000, 0.6000, 0.8000, 1.0000])"
            ]
          },
          "metadata": {
            "tags": []
          },
          "execution_count": 23
        }
      ]
    },
    {
      "cell_type": "code",
      "metadata": {
        "id": "-76ARpHmrVEa",
        "colab_type": "code",
        "colab": {
          "base_uri": "https://localhost:8080/",
          "height": 68
        },
        "outputId": "cc9eea12-3506-4440-eb18-09af6dc23602"
      },
      "source": [
        "# torch.ones\n",
        "torch_array = torch.ones([3,3])\n",
        "torch_array"
      ],
      "execution_count": 25,
      "outputs": [
        {
          "output_type": "execute_result",
          "data": {
            "text/plain": [
              "tensor([[1., 1., 1.],\n",
              "        [1., 1., 1.],\n",
              "        [1., 1., 1.]])"
            ]
          },
          "metadata": {
            "tags": []
          },
          "execution_count": 25
        }
      ]
    },
    {
      "cell_type": "code",
      "metadata": {
        "id": "Fw-aqY_Pra_6",
        "colab_type": "code",
        "colab": {
          "base_uri": "https://localhost:8080/",
          "height": 85
        },
        "outputId": "6daada7c-7515-4ac1-c0a0-99550cb422d1"
      },
      "source": [
        "# torch.zeros\n",
        "torch_array = torch.zeros([4,4])\n",
        "torch_array"
      ],
      "execution_count": 27,
      "outputs": [
        {
          "output_type": "execute_result",
          "data": {
            "text/plain": [
              "tensor([[0., 0., 0., 0.],\n",
              "        [0., 0., 0., 0.],\n",
              "        [0., 0., 0., 0.],\n",
              "        [0., 0., 0., 0.]])"
            ]
          },
          "metadata": {
            "tags": []
          },
          "execution_count": 27
        }
      ]
    },
    {
      "cell_type": "code",
      "metadata": {
        "id": "LqOgj5u0rg65",
        "colab_type": "code",
        "colab": {
          "base_uri": "https://localhost:8080/",
          "height": 34
        },
        "outputId": "d641bd6c-3045-4043-e27d-f09ffcc4b43e"
      },
      "source": [
        "# torch.randn\n",
        "torch_array = torch.randn(4)\n",
        "torch_array "
      ],
      "execution_count": 28,
      "outputs": [
        {
          "output_type": "execute_result",
          "data": {
            "text/plain": [
              "tensor([-0.6602,  2.0652, -0.6862, -0.1971])"
            ]
          },
          "metadata": {
            "tags": []
          },
          "execution_count": 28
        }
      ]
    },
    {
      "cell_type": "code",
      "metadata": {
        "id": "pJVu_RJCrqqN",
        "colab_type": "code",
        "colab": {
          "base_uri": "https://localhost:8080/",
          "height": 119
        },
        "outputId": "a48cc1c7-9f1e-4ee4-c301-e97d6ff8d111"
      },
      "source": [
        "# Reshape\n",
        "torch_array = torch.arange(10)\n",
        "print(torch_array)\n",
        "torch_array = torch_array.view(5,2)\n",
        "print(torch_array)"
      ],
      "execution_count": 29,
      "outputs": [
        {
          "output_type": "stream",
          "text": [
            "tensor([0, 1, 2, 3, 4, 5, 6, 7, 8, 9])\n",
            "tensor([[0, 1],\n",
            "        [2, 3],\n",
            "        [4, 5],\n",
            "        [6, 7],\n",
            "        [8, 9]])\n"
          ],
          "name": "stdout"
        }
      ]
    },
    {
      "cell_type": "code",
      "metadata": {
        "id": "RWnZDXLXvjoH",
        "colab_type": "code",
        "colab": {
          "base_uri": "https://localhost:8080/",
          "height": 136
        },
        "outputId": "fccd2234-94fc-4f7c-b0d5-ce7c058aecb5"
      },
      "source": [
        "# swap axis\n",
        "torch_array = torch.arange(10)\n",
        "torch_array = torch_array.view(5,2)\n",
        "print(torch_array)\n",
        "torch_array = torch_array.transpose(0,1)\n",
        "print(torch_array)"
      ],
      "execution_count": 30,
      "outputs": [
        {
          "output_type": "stream",
          "text": [
            "tensor([[0, 1],\n",
            "        [2, 3],\n",
            "        [4, 5],\n",
            "        [6, 7],\n",
            "        [8, 9]])\n",
            "tensor([[0, 2, 4, 6, 8],\n",
            "        [1, 3, 5, 7, 9]])\n"
          ],
          "name": "stdout"
        }
      ]
    },
    {
      "cell_type": "code",
      "metadata": {
        "id": "PPhdjpn4v24N",
        "colab_type": "code",
        "colab": {
          "base_uri": "https://localhost:8080/",
          "height": 391
        },
        "outputId": "f437c417-d62c-4c43-b810-9996c6c794e0"
      },
      "source": [
        "torch_array = torch.arange(27).view(3,3,3)\n",
        "print(torch_array)\n",
        "torch_array = torch_array.transpose(1,2)\n",
        "print(torch_array)"
      ],
      "execution_count": 35,
      "outputs": [
        {
          "output_type": "stream",
          "text": [
            "tensor([[[ 0,  1,  2],\n",
            "         [ 3,  4,  5],\n",
            "         [ 6,  7,  8]],\n",
            "\n",
            "        [[ 9, 10, 11],\n",
            "         [12, 13, 14],\n",
            "         [15, 16, 17]],\n",
            "\n",
            "        [[18, 19, 20],\n",
            "         [21, 22, 23],\n",
            "         [24, 25, 26]]])\n",
            "tensor([[[ 0,  3,  6],\n",
            "         [ 1,  4,  7],\n",
            "         [ 2,  5,  8]],\n",
            "\n",
            "        [[ 9, 12, 15],\n",
            "         [10, 13, 16],\n",
            "         [11, 14, 17]],\n",
            "\n",
            "        [[18, 21, 24],\n",
            "         [19, 22, 25],\n",
            "         [20, 23, 26]]])\n"
          ],
          "name": "stdout"
        }
      ]
    },
    {
      "cell_type": "code",
      "metadata": {
        "id": "P9mWtBoNv9Rv",
        "colab_type": "code",
        "colab": {
          "base_uri": "https://localhost:8080/",
          "height": 391
        },
        "outputId": "53ae2e5b-debc-4e4a-cc77-ec8396e02b9b"
      },
      "source": [
        "torch_array = torch.arange(27).view(3,3,3)\n",
        "print(torch_array)\n",
        "torch_array = torch_array.transpose(0,2)\n",
        "print(torch_array)"
      ],
      "execution_count": 36,
      "outputs": [
        {
          "output_type": "stream",
          "text": [
            "tensor([[[ 0,  1,  2],\n",
            "         [ 3,  4,  5],\n",
            "         [ 6,  7,  8]],\n",
            "\n",
            "        [[ 9, 10, 11],\n",
            "         [12, 13, 14],\n",
            "         [15, 16, 17]],\n",
            "\n",
            "        [[18, 19, 20],\n",
            "         [21, 22, 23],\n",
            "         [24, 25, 26]]])\n",
            "tensor([[[ 0,  9, 18],\n",
            "         [ 3, 12, 21],\n",
            "         [ 6, 15, 24]],\n",
            "\n",
            "        [[ 1, 10, 19],\n",
            "         [ 4, 13, 22],\n",
            "         [ 7, 16, 25]],\n",
            "\n",
            "        [[ 2, 11, 20],\n",
            "         [ 5, 14, 23],\n",
            "         [ 8, 17, 26]]])\n"
          ],
          "name": "stdout"
        }
      ]
    },
    {
      "cell_type": "code",
      "metadata": {
        "id": "iw4Pqsz3wouP",
        "colab_type": "code",
        "colab": {
          "base_uri": "https://localhost:8080/",
          "height": 391
        },
        "outputId": "00d33786-0fb6-4e92-ad0d-190fa1d29954"
      },
      "source": [
        "torch_array = torch.arange(27).view(3,3,3)\n",
        "print(torch_array)\n",
        "torch_array = torch_array.transpose(0,1)\n",
        "print(torch_array)"
      ],
      "execution_count": 37,
      "outputs": [
        {
          "output_type": "stream",
          "text": [
            "tensor([[[ 0,  1,  2],\n",
            "         [ 3,  4,  5],\n",
            "         [ 6,  7,  8]],\n",
            "\n",
            "        [[ 9, 10, 11],\n",
            "         [12, 13, 14],\n",
            "         [15, 16, 17]],\n",
            "\n",
            "        [[18, 19, 20],\n",
            "         [21, 22, 23],\n",
            "         [24, 25, 26]]])\n",
            "tensor([[[ 0,  1,  2],\n",
            "         [ 9, 10, 11],\n",
            "         [18, 19, 20]],\n",
            "\n",
            "        [[ 3,  4,  5],\n",
            "         [12, 13, 14],\n",
            "         [21, 22, 23]],\n",
            "\n",
            "        [[ 6,  7,  8],\n",
            "         [15, 16, 17],\n",
            "         [24, 25, 26]]])\n"
          ],
          "name": "stdout"
        }
      ]
    },
    {
      "cell_type": "code",
      "metadata": {
        "id": "x0qQzTTVwwAD",
        "colab_type": "code",
        "colab": {
          "base_uri": "https://localhost:8080/",
          "height": 34
        },
        "outputId": "c728b3cb-6661-42a7-e9d6-b9751b6328ef"
      },
      "source": [
        "# specify by index\n",
        "torch_array = torch.arange(10)\n",
        "torch_array[2]"
      ],
      "execution_count": 38,
      "outputs": [
        {
          "output_type": "execute_result",
          "data": {
            "text/plain": [
              "tensor(2)"
            ]
          },
          "metadata": {
            "tags": []
          },
          "execution_count": 38
        }
      ]
    },
    {
      "cell_type": "code",
      "metadata": {
        "id": "SWidrp-zw_ek",
        "colab_type": "code",
        "colab": {
          "base_uri": "https://localhost:8080/",
          "height": 34
        },
        "outputId": "b390a0b3-2e17-4518-c1fc-ed44deeee96a"
      },
      "source": [
        "# slice\n",
        "torch_array[2:7]"
      ],
      "execution_count": 40,
      "outputs": [
        {
          "output_type": "execute_result",
          "data": {
            "text/plain": [
              "tensor([2, 3, 4, 5, 6])"
            ]
          },
          "metadata": {
            "tags": []
          },
          "execution_count": 40
        }
      ]
    },
    {
      "cell_type": "code",
      "metadata": {
        "id": "0N-UfhOhxCYX",
        "colab_type": "code",
        "colab": {
          "base_uri": "https://localhost:8080/",
          "height": 68
        },
        "outputId": "60f17eee-be10-4e78-85de-8c240e2adec1"
      },
      "source": [
        "# element-wise addition\n",
        "x1 = torch.arange(4)\n",
        "print(x1)\n",
        "print(torch.add(x1, 4))\n",
        "\n",
        "# element-wise multiplication\n",
        "x1 = torch.arange(4)\n",
        "print(torch.mul(x1, 4))"
      ],
      "execution_count": 42,
      "outputs": [
        {
          "output_type": "stream",
          "text": [
            "tensor([0, 1, 2, 3])\n",
            "tensor([4, 5, 6, 7])\n",
            "tensor([ 0,  4,  8, 12])\n"
          ],
          "name": "stdout"
        }
      ]
    },
    {
      "cell_type": "code",
      "metadata": {
        "id": "GsVh8T8TxWAU",
        "colab_type": "code",
        "colab": {
          "base_uri": "https://localhost:8080/",
          "height": 68
        },
        "outputId": "c51dffc3-0c2c-4689-99e0-ff826cb45470"
      },
      "source": [
        "# various calculation\n",
        "# inner product\n",
        "x1 = torch.arange(4)\n",
        "x2 = torch.arange(4)\n",
        "print(torch.matmul(x1,x2))\n",
        "print(torch.dot(x1,x2))\n",
        "print(x1@x2)"
      ],
      "execution_count": 43,
      "outputs": [
        {
          "output_type": "stream",
          "text": [
            "tensor(14)\n",
            "tensor(14)\n",
            "tensor(14)\n"
          ],
          "name": "stdout"
        }
      ]
    },
    {
      "cell_type": "code",
      "metadata": {
        "id": "CQyaKbwwxvoW",
        "colab_type": "code",
        "colab": {
          "base_uri": "https://localhost:8080/",
          "height": 51
        },
        "outputId": "3a4df168-efc8-4227-d746-f56ab18a9a20"
      },
      "source": [
        "# product by mat and vector\n",
        "X1 = torch.arange(8).view(2,4)\n",
        "x2 = torch.arange(4)\n",
        "print(torch.matmul(X1, x2))\n",
        "print(torch.mv(X1, x2))\n"
      ],
      "execution_count": 45,
      "outputs": [
        {
          "output_type": "stream",
          "text": [
            "tensor([14, 38])\n",
            "tensor([14, 38])\n"
          ],
          "name": "stdout"
        }
      ]
    },
    {
      "cell_type": "code",
      "metadata": {
        "id": "qnHjNsiDx_iR",
        "colab_type": "code",
        "colab": {
          "base_uri": "https://localhost:8080/",
          "height": 119
        },
        "outputId": "1f832b66-1e69-4531-9e87-1bb51c15cbc1"
      },
      "source": [
        "# product by mat and mat\n",
        "X1 = torch.arange(8).view(2,4)\n",
        "X2 = torch.arange(8).view(2,4).t()\n",
        "print(torch.matmul(X1,X2))\n",
        "print(torch.mm(X1,X2))\n",
        "print(X1@X2)"
      ],
      "execution_count": 47,
      "outputs": [
        {
          "output_type": "stream",
          "text": [
            "tensor([[ 14,  38],\n",
            "        [ 38, 126]])\n",
            "tensor([[ 14,  38],\n",
            "        [ 38, 126]])\n",
            "tensor([[ 14,  38],\n",
            "        [ 38, 126]])\n"
          ],
          "name": "stdout"
        }
      ]
    },
    {
      "cell_type": "code",
      "metadata": {
        "id": "2At5TCwZyPu4",
        "colab_type": "code",
        "colab": {
          "base_uri": "https://localhost:8080/",
          "height": 459
        },
        "outputId": "e606ca8c-f8c7-4ab8-d77d-db9145b9787f"
      },
      "source": [
        "# various calculation 2\n",
        "# matmul by mat with shape=(2,4) and mat with shape=(4,2)\n",
        "X1 = torch.arange(24).view(-1, 2, 4)\n",
        "X2 = torch.arange(24).view(-1, 4, 2)\n",
        "print(X1.size())\n",
        "print(X2.size())\n",
        "print(torch.matmul(X1, X2))\n",
        "print(torch.bmm(X1,X2))\n",
        "print(X1@X2)"
      ],
      "execution_count": 48,
      "outputs": [
        {
          "output_type": "stream",
          "text": [
            "torch.Size([3, 2, 4])\n",
            "torch.Size([3, 4, 2])\n",
            "tensor([[[  28,   34],\n",
            "         [  76,   98]],\n",
            "\n",
            "        [[ 428,  466],\n",
            "         [ 604,  658]],\n",
            "\n",
            "        [[1340, 1410],\n",
            "         [1644, 1730]]])\n",
            "tensor([[[  28,   34],\n",
            "         [  76,   98]],\n",
            "\n",
            "        [[ 428,  466],\n",
            "         [ 604,  658]],\n",
            "\n",
            "        [[1340, 1410],\n",
            "         [1644, 1730]]])\n",
            "tensor([[[  28,   34],\n",
            "         [  76,   98]],\n",
            "\n",
            "        [[ 428,  466],\n",
            "         [ 604,  658]],\n",
            "\n",
            "        [[1340, 1410],\n",
            "         [1644, 1730]]])\n"
          ],
          "name": "stdout"
        }
      ]
    },
    {
      "cell_type": "code",
      "metadata": {
        "id": "TB1whJm6y41d",
        "colab_type": "code",
        "colab": {
          "base_uri": "https://localhost:8080/",
          "height": 34
        },
        "outputId": "cd57c732-17ed-43f0-de7f-33b06f221fb5"
      },
      "source": [
        "# data type\n",
        "np_array = np.array([1,2,3])\n",
        "np_array.dtype"
      ],
      "execution_count": 49,
      "outputs": [
        {
          "output_type": "execute_result",
          "data": {
            "text/plain": [
              "dtype('int64')"
            ]
          },
          "metadata": {
            "tags": []
          },
          "execution_count": 49
        }
      ]
    },
    {
      "cell_type": "code",
      "metadata": {
        "id": "DHt4aYBmzJi2",
        "colab_type": "code",
        "colab": {
          "base_uri": "https://localhost:8080/",
          "height": 34
        },
        "outputId": "1577ff7d-d3fd-41cd-d2ce-0f2a53eee3a0"
      },
      "source": [
        "np_array = np.array([1.,2.,3.])\n",
        "np_array.dtype"
      ],
      "execution_count": 50,
      "outputs": [
        {
          "output_type": "execute_result",
          "data": {
            "text/plain": [
              "dtype('float64')"
            ]
          },
          "metadata": {
            "tags": []
          },
          "execution_count": 50
        }
      ]
    },
    {
      "cell_type": "code",
      "metadata": {
        "id": "zlkHqSlwzOyR",
        "colab_type": "code",
        "colab": {
          "base_uri": "https://localhost:8080/",
          "height": 34
        },
        "outputId": "03735297-5108-494f-a2ed-a56e437e0efb"
      },
      "source": [
        "np_array = np.array([0,1,2,3])\n",
        "torch_array = torch.from_numpy(np_array)\n",
        "torch_array.type()"
      ],
      "execution_count": 51,
      "outputs": [
        {
          "output_type": "execute_result",
          "data": {
            "text/plain": [
              "'torch.LongTensor'"
            ]
          },
          "metadata": {
            "tags": []
          },
          "execution_count": 51
        }
      ]
    },
    {
      "cell_type": "code",
      "metadata": {
        "id": "dKNv5IT4zZNp",
        "colab_type": "code",
        "colab": {
          "base_uri": "https://localhost:8080/",
          "height": 34
        },
        "outputId": "eba16279-aff4-4c91-8475-e7c7d29c426e"
      },
      "source": [
        "torch_array.dtype"
      ],
      "execution_count": 52,
      "outputs": [
        {
          "output_type": "execute_result",
          "data": {
            "text/plain": [
              "torch.int64"
            ]
          },
          "metadata": {
            "tags": []
          },
          "execution_count": 52
        }
      ]
    },
    {
      "cell_type": "code",
      "metadata": {
        "id": "uGSfmIPRzgL1",
        "colab_type": "code",
        "colab": {
          "base_uri": "https://localhost:8080/",
          "height": 34
        },
        "outputId": "0eab0b66-c946-4ca9-a741-07bd803fbdbf"
      },
      "source": [
        "np_array = np.array([0.,1.,2.,3.])\n",
        "torch_array = torch.from_numpy(np_array)\n",
        "torch_array.type()"
      ],
      "execution_count": 53,
      "outputs": [
        {
          "output_type": "execute_result",
          "data": {
            "text/plain": [
              "'torch.DoubleTensor'"
            ]
          },
          "metadata": {
            "tags": []
          },
          "execution_count": 53
        }
      ]
    },
    {
      "cell_type": "code",
      "metadata": {
        "id": "3TowBz_XzrjE",
        "colab_type": "code",
        "colab": {
          "base_uri": "https://localhost:8080/",
          "height": 34
        },
        "outputId": "452ec54c-eefd-496d-aa48-c90d5f39b700"
      },
      "source": [
        "torch_array.dtype"
      ],
      "execution_count": 54,
      "outputs": [
        {
          "output_type": "execute_result",
          "data": {
            "text/plain": [
              "torch.float64"
            ]
          },
          "metadata": {
            "tags": []
          },
          "execution_count": 54
        }
      ]
    },
    {
      "cell_type": "code",
      "metadata": {
        "id": "RV5OpHCczxzp",
        "colab_type": "code",
        "colab": {
          "base_uri": "https://localhost:8080/",
          "height": 34
        },
        "outputId": "6eee955e-8387-44e7-813e-fa527f5d39ca"
      },
      "source": [
        "np_array = np.array([1,2,3], dtype=float)\n",
        "np_array.dtype"
      ],
      "execution_count": 55,
      "outputs": [
        {
          "output_type": "execute_result",
          "data": {
            "text/plain": [
              "dtype('float64')"
            ]
          },
          "metadata": {
            "tags": []
          },
          "execution_count": 55
        }
      ]
    },
    {
      "cell_type": "code",
      "metadata": {
        "id": "pov9xeKHz61y",
        "colab_type": "code",
        "colab": {
          "base_uri": "https://localhost:8080/",
          "height": 34
        },
        "outputId": "8775b640-d002-4ecc-891d-14a31fc80ad6"
      },
      "source": [
        "np_array = np.array([1,2,3]).astype(np.float)\n",
        "torch_array = torch.from_numpy(np_array)\n",
        "torch_array.dtype"
      ],
      "execution_count": 56,
      "outputs": [
        {
          "output_type": "execute_result",
          "data": {
            "text/plain": [
              "torch.float64"
            ]
          },
          "metadata": {
            "tags": []
          },
          "execution_count": 56
        }
      ]
    },
    {
      "cell_type": "code",
      "metadata": {
        "id": "8PJih4ns0FW2",
        "colab_type": "code",
        "colab": {
          "base_uri": "https://localhost:8080/",
          "height": 34
        },
        "outputId": "0fb18687-9f0c-499a-d84b-29180c77cac8"
      },
      "source": [
        "np_array = np.array([1,2,3], dtype=\"int64\")\n",
        "torch_array = torch.from_numpy(np_array)\n",
        "torch_array.dtype"
      ],
      "execution_count": 57,
      "outputs": [
        {
          "output_type": "execute_result",
          "data": {
            "text/plain": [
              "torch.int64"
            ]
          },
          "metadata": {
            "tags": []
          },
          "execution_count": 57
        }
      ]
    },
    {
      "cell_type": "code",
      "metadata": {
        "id": "NCgBNeZ00Zwv",
        "colab_type": "code",
        "colab": {
          "base_uri": "https://localhost:8080/",
          "height": 34
        },
        "outputId": "a3fc13ba-8b2a-4fd5-ed37-579b5e54cc59"
      },
      "source": [
        "torch_array.type()"
      ],
      "execution_count": 58,
      "outputs": [
        {
          "output_type": "execute_result",
          "data": {
            "text/plain": [
              "'torch.LongTensor'"
            ]
          },
          "metadata": {
            "tags": []
          },
          "execution_count": 58
        }
      ]
    },
    {
      "cell_type": "code",
      "metadata": {
        "id": "OC_M_sSg0cc-",
        "colab_type": "code",
        "colab": {
          "base_uri": "https://localhost:8080/",
          "height": 68
        },
        "outputId": "747fc0d0-1e3a-4bf1-f73b-c9dbf3a2b83e"
      },
      "source": [
        "# shape check\n",
        "xf_numpy = np.ndarray([2,3], dtype='float32')\n",
        "print(xf_numpy)\n",
        "print(xf_numpy.shape)"
      ],
      "execution_count": 59,
      "outputs": [
        {
          "output_type": "stream",
          "text": [
            "[[0.    1.875 0.   ]\n",
            " [2.    0.    2.125]]\n",
            "(2, 3)\n"
          ],
          "name": "stdout"
        }
      ]
    },
    {
      "cell_type": "code",
      "metadata": {
        "id": "h3bC7dCh0vQY",
        "colab_type": "code",
        "colab": {
          "base_uri": "https://localhost:8080/",
          "height": 68
        },
        "outputId": "3cf8eeba-54bb-4362-8827-26f844ec5061"
      },
      "source": [
        "xf_torch = torch.FloatTensor(2,3)\n",
        "print(xf_torch)\n",
        "print(xf_torch.shape)"
      ],
      "execution_count": 60,
      "outputs": [
        {
          "output_type": "stream",
          "text": [
            "tensor([[3.9781e-37, 0.0000e+00, 3.7835e-44],\n",
            "        [0.0000e+00,        nan, 6.1657e-44]])\n",
            "torch.Size([2, 3])\n"
          ],
          "name": "stdout"
        }
      ]
    },
    {
      "cell_type": "code",
      "metadata": {
        "id": "9z7AT8xr09CR",
        "colab_type": "code",
        "colab": {}
      },
      "source": [
        ""
      ],
      "execution_count": 0,
      "outputs": []
    },
    {
      "cell_type": "markdown",
      "metadata": {
        "id": "-omif3QD1K4w",
        "colab_type": "text"
      },
      "source": [
        "# Section 2.3 Network Definition\n"
      ]
    },
    {
      "cell_type": "code",
      "metadata": {
        "id": "JyerfWfV1O43",
        "colab_type": "code",
        "colab": {}
      },
      "source": [
        ""
      ],
      "execution_count": 0,
      "outputs": []
    }
  ]
}