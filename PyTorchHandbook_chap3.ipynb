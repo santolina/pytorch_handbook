{
  "nbformat": 4,
  "nbformat_minor": 0,
  "metadata": {
    "colab": {
      "name": "PyTorchHandbook_chap3.ipynb",
      "provenance": [],
      "collapsed_sections": [],
      "include_colab_link": true
    },
    "kernelspec": {
      "name": "python3",
      "display_name": "Python 3"
    },
    "accelerator": "GPU"
  },
  "cells": [
    {
      "cell_type": "markdown",
      "metadata": {
        "id": "view-in-github",
        "colab_type": "text"
      },
      "source": [
        "<a href=\"https://colab.research.google.com/github/santolina/pytorch_handbook/blob/master/PyTorchHandbook_chap3.ipynb\" target=\"_parent\"><img src=\"https://colab.research.google.com/assets/colab-badge.svg\" alt=\"Open In Colab\"/></a>"
      ]
    },
    {
      "cell_type": "code",
      "metadata": {
        "id": "KGAdFe0yJWlq",
        "colab_type": "code",
        "colab": {}
      },
      "source": [
        "import torch\n",
        "import torchvision\n",
        "import torch.nn as nn\n",
        "import torch.optim as optim\n",
        "import torch.nn.functional as F\n",
        "import torchvision.transforms as transforms\n",
        "%matplotlib inline\n",
        "import numpy as np\n",
        "import matplotlib.pyplot as plt"
      ],
      "execution_count": 0,
      "outputs": []
    },
    {
      "cell_type": "code",
      "metadata": {
        "id": "sjAONAlgJdeF",
        "colab_type": "code",
        "colab": {
          "base_uri": "https://localhost:8080/",
          "height": 85
        },
        "outputId": "6dd4ceb6-257a-4fd4-acd6-1589d6c3cb73"
      },
      "source": [
        "# import dataset\n",
        "\n",
        "train_dataset = torchvision.datasets.CIFAR10(root='./data/', \n",
        "                                             train=True,\n",
        "                                             transform = transforms.ToTensor(),\n",
        "                                             download=True\n",
        "                                             )\n",
        "\n",
        "test_dataset = torchvision.datasets.CIFAR10(root='./data/', \n",
        "                                            train=False,\n",
        "                                            transform = transforms.ToTensor(),\n",
        "                                            download = True\n",
        "                                            )\n",
        "                                \n",
        "image, label = train_dataset[0]\n",
        "print(image.size())\n",
        "print(label)"
      ],
      "execution_count": 33,
      "outputs": [
        {
          "output_type": "stream",
          "text": [
            "Files already downloaded and verified\n",
            "Files already downloaded and verified\n",
            "torch.Size([3, 32, 32])\n",
            "6\n"
          ],
          "name": "stdout"
        }
      ]
    },
    {
      "cell_type": "code",
      "metadata": {
        "id": "ctPw8MVZKxgI",
        "colab_type": "code",
        "colab": {}
      },
      "source": [
        "# define Dataloader\n",
        "\n",
        "train_loader = torch.utils.data.DataLoader(\n",
        "    dataset = train_dataset,\n",
        "    batch_size = 64,\n",
        "    shuffle = True, \n",
        "    num_workers=2\n",
        ")\n",
        "\n",
        "test_loader = torch.utils.data.DataLoader(\n",
        "    dataset = test_dataset, \n",
        "    batch_size = 64,\n",
        "    shuffle = False, \n",
        "    num_workers = 2\n",
        ")"
      ],
      "execution_count": 0,
      "outputs": []
    },
    {
      "cell_type": "code",
      "metadata": {
        "id": "Spb2JtLQLQfE",
        "colab_type": "code",
        "colab": {
          "base_uri": "https://localhost:8080/",
          "height": 68
        },
        "outputId": "3e7f6a58-d122-4c54-bf41-ef16b391f6b9"
      },
      "source": [
        "# check tensor's shape\n",
        "\n",
        "for images, labels in train_loader:\n",
        "  print(images.size())\n",
        "  print(images[0].size())\n",
        "  print(labels.size())\n",
        "  # insert training code\n",
        "  \n",
        "  break"
      ],
      "execution_count": 35,
      "outputs": [
        {
          "output_type": "stream",
          "text": [
            "torch.Size([64, 3, 32, 32])\n",
            "torch.Size([3, 32, 32])\n",
            "torch.Size([64])\n"
          ],
          "name": "stdout"
        }
      ]
    },
    {
      "cell_type": "code",
      "metadata": {
        "id": "xUv5DoIBLdo6",
        "colab_type": "code",
        "colab": {
          "base_uri": "https://localhost:8080/",
          "height": 34
        },
        "outputId": "e91862da-6f57-4661-8291-f3f2b41fc1d8"
      },
      "source": [
        "# define MLP network\n",
        "num_classes = 10\n",
        "\n",
        "class MLPNet(nn.Module):\n",
        "  def __init__(self):\n",
        "    super(MLPNet, self).__init__()\n",
        "    self.fc1 = nn.Linear(32 * 32 * 3, 600)\n",
        "    self.fc2 = nn.Linear(600, 600)\n",
        "    self.fc3 = nn.Linear(600, num_classes)\n",
        "    self.dropout1 = nn.Dropout2d(0.2)\n",
        "    self.dropout2 = nn.Dropout2d(0.2)\n",
        "\n",
        "  def forward(self, x):\n",
        "    x = F.relu(self.fc1(x))\n",
        "    x = self.dropout1(x)\n",
        "    x = F.relu(self.fc2(x))\n",
        "    x = self.dropout2(x)\n",
        "    x = F.relu(self.fc3(x))\n",
        "    return x\n",
        "\n",
        "device = 'cuda' if torch.cuda.is_available() else 'cpu'\n",
        "net = MLPNet().to(device)\n",
        "device"
      ],
      "execution_count": 36,
      "outputs": [
        {
          "output_type": "execute_result",
          "data": {
            "text/plain": [
              "'cuda'"
            ]
          },
          "metadata": {
            "tags": []
          },
          "execution_count": 36
        }
      ]
    },
    {
      "cell_type": "code",
      "metadata": {
        "id": "fxeyAsRhNiya",
        "colab_type": "code",
        "colab": {}
      },
      "source": [
        "# loss function and optimizer\n",
        "\n",
        "criterion = nn.CrossEntropyLoss()\n",
        "optimizer = optim.SGD(net.parameters(), lr=0.01, momentum=0.9, weight_decay=5e-4)\n"
      ],
      "execution_count": 0,
      "outputs": []
    },
    {
      "cell_type": "code",
      "metadata": {
        "id": "kv6gdfuhN8qc",
        "colab_type": "code",
        "colab": {}
      },
      "source": [
        "# training\n",
        "def train(net, criterion, optimizer, train_loader, test_loader, num_epoch=50):\n",
        "\n",
        "  train_loss_list = []\n",
        "  train_acc_list = []\n",
        "  val_loss_list = []\n",
        "  val_acc_list = []\n",
        "\n",
        "  for epoch in range(num_epoch):\n",
        "    train_loss = 0\n",
        "    train_acc = 0\n",
        "    val_loss = 0\n",
        "    val_acc = 0\n",
        "\n",
        "    # train=====\n",
        "    # change training mode\n",
        "    net.train()\n",
        "\n",
        "    for i, (images, labels) in enumerate(train_loader):\n",
        "      images, labels = images.view(-1, 32*32*3).to(device), labels.to(device)\n",
        "\n",
        "      # reset  gradient\n",
        "      optimizer.zero_grad()\n",
        "\n",
        "      # forward propagation\n",
        "      outputs = net(images)\n",
        "\n",
        "      # calc loss\n",
        "      loss = criterion(outputs, labels)\n",
        "\n",
        "      train_loss += loss.item()\n",
        "\n",
        "      train_acc += (outputs.max(1)[1] == labels).sum().item()\n",
        "\n",
        "      # back propagation\n",
        "      loss.backward()\n",
        "\n",
        "      # update weight\n",
        "      optimizer.step()\n",
        "\n",
        "    # average loss and accuracy\n",
        "    avg_train_loss = train_loss / len(train_loader.dataset)\n",
        "    avg_train_acc = train_acc / len(train_loader.dataset)\n",
        "\n",
        "    # val====\n",
        "    # change evaluation mode\n",
        "    net.eval()\n",
        "\n",
        "    with torch.no_grad():\n",
        "      for images, labels in test_loader:\n",
        "        images, labels = images.view(-1, 32*32*3).to(device), labels.to(device)\n",
        "\n",
        "        outputs = net(images)\n",
        "        loss = criterion(outputs, labels)\n",
        "\n",
        "        val_loss += loss.item()\n",
        "        val_acc += (outputs.max(1)[1]==labels).sum().item()\n",
        "    \n",
        "      avg_val_loss = val_loss / len(test_loader.dataset)\n",
        "      avg_val_acc = val_acc / len(test_loader.dataset)\n",
        "\n",
        "    # output loss and acc of training and test\n",
        "\n",
        "    print('Epoc [{}/{}], loss: {loss:.4f}, val_loss: {val_loss:.4f}, val_acc: {val_acc:.4f}'.format(\n",
        "      epoch+1, num_epoch, i+1, loss=avg_train_loss, val_loss=avg_val_loss, val_acc=avg_val_acc))\n",
        "\n",
        "    # store data to plot graph\n",
        "    train_loss_list.append(avg_train_loss)\n",
        "    train_acc_list.append(avg_train_acc)\n",
        "    val_loss_list.append(avg_val_loss)\n",
        "    val_acc_list.append(avg_val_acc)\n",
        "\n",
        "  return train_loss_list, train_acc_list, val_loss_list, val_acc_list, net, \n"
      ],
      "execution_count": 0,
      "outputs": []
    },
    {
      "cell_type": "markdown",
      "metadata": {
        "id": "9YgzBpLrVtdw",
        "colab_type": "text"
      },
      "source": [
        ""
      ]
    },
    {
      "cell_type": "code",
      "metadata": {
        "id": "_qCT8wMIVn9t",
        "colab_type": "code",
        "colab": {
          "base_uri": "https://localhost:8080/",
          "height": 867
        },
        "outputId": "5fb40883-52a1-474d-940d-3073c042fe1e"
      },
      "source": [
        "train_loss_list, train_acc_list, val_loss_list, val_acc_list, net = train(net, criterion, optimizer, train_loader, test_loader, num_epoch=50)"
      ],
      "execution_count": 39,
      "outputs": [
        {
          "output_type": "stream",
          "text": [
            "Epoc [1/50], loss: 0.0305, val_loss: 0.0293, val_acc: 0.3347\n",
            "Epoc [2/50], loss: 0.0276, val_loss: 0.0260, val_acc: 0.4103\n",
            "Epoc [3/50], loss: 0.0264, val_loss: 0.0256, val_acc: 0.4251\n",
            "Epoc [4/50], loss: 0.0257, val_loss: 0.0244, val_acc: 0.4534\n",
            "Epoc [5/50], loss: 0.0251, val_loss: 0.0245, val_acc: 0.4516\n",
            "Epoc [6/50], loss: 0.0247, val_loss: 0.0239, val_acc: 0.4599\n",
            "Epoc [7/50], loss: 0.0242, val_loss: 0.0236, val_acc: 0.4655\n",
            "Epoc [8/50], loss: 0.0240, val_loss: 0.0229, val_acc: 0.4797\n",
            "Epoc [9/50], loss: 0.0237, val_loss: 0.0228, val_acc: 0.4861\n",
            "Epoc [10/50], loss: 0.0234, val_loss: 0.0230, val_acc: 0.4813\n",
            "Epoc [11/50], loss: 0.0231, val_loss: 0.0227, val_acc: 0.4890\n",
            "Epoc [12/50], loss: 0.0229, val_loss: 0.0223, val_acc: 0.4946\n",
            "Epoc [13/50], loss: 0.0227, val_loss: 0.0225, val_acc: 0.4889\n",
            "Epoc [14/50], loss: 0.0226, val_loss: 0.0226, val_acc: 0.4814\n",
            "Epoc [15/50], loss: 0.0224, val_loss: 0.0223, val_acc: 0.4871\n",
            "Epoc [16/50], loss: 0.0222, val_loss: 0.0220, val_acc: 0.4952\n",
            "Epoc [17/50], loss: 0.0219, val_loss: 0.0227, val_acc: 0.4829\n",
            "Epoc [18/50], loss: 0.0218, val_loss: 0.0216, val_acc: 0.5163\n",
            "Epoc [19/50], loss: 0.0216, val_loss: 0.0214, val_acc: 0.5127\n",
            "Epoc [20/50], loss: 0.0216, val_loss: 0.0220, val_acc: 0.4982\n",
            "Epoc [21/50], loss: 0.0214, val_loss: 0.0213, val_acc: 0.5169\n",
            "Epoc [22/50], loss: 0.0213, val_loss: 0.0216, val_acc: 0.5141\n",
            "Epoc [23/50], loss: 0.0212, val_loss: 0.0212, val_acc: 0.5163\n",
            "Epoc [24/50], loss: 0.0210, val_loss: 0.0218, val_acc: 0.4981\n",
            "Epoc [25/50], loss: 0.0209, val_loss: 0.0220, val_acc: 0.5004\n",
            "Epoc [26/50], loss: 0.0208, val_loss: 0.0213, val_acc: 0.5161\n",
            "Epoc [27/50], loss: 0.0208, val_loss: 0.0212, val_acc: 0.5185\n",
            "Epoc [28/50], loss: 0.0208, val_loss: 0.0222, val_acc: 0.4882\n",
            "Epoc [29/50], loss: 0.0207, val_loss: 0.0209, val_acc: 0.5219\n",
            "Epoc [30/50], loss: 0.0206, val_loss: 0.0213, val_acc: 0.5129\n",
            "Epoc [31/50], loss: 0.0205, val_loss: 0.0220, val_acc: 0.5000\n",
            "Epoc [32/50], loss: 0.0203, val_loss: 0.0211, val_acc: 0.5134\n",
            "Epoc [33/50], loss: 0.0202, val_loss: 0.0212, val_acc: 0.5157\n",
            "Epoc [34/50], loss: 0.0201, val_loss: 0.0212, val_acc: 0.5222\n",
            "Epoc [35/50], loss: 0.0202, val_loss: 0.0208, val_acc: 0.5289\n",
            "Epoc [36/50], loss: 0.0201, val_loss: 0.0205, val_acc: 0.5264\n",
            "Epoc [37/50], loss: 0.0200, val_loss: 0.0210, val_acc: 0.5214\n",
            "Epoc [38/50], loss: 0.0199, val_loss: 0.0214, val_acc: 0.5199\n",
            "Epoc [39/50], loss: 0.0199, val_loss: 0.0208, val_acc: 0.5276\n",
            "Epoc [40/50], loss: 0.0198, val_loss: 0.0210, val_acc: 0.5213\n",
            "Epoc [41/50], loss: 0.0197, val_loss: 0.0206, val_acc: 0.5347\n",
            "Epoc [42/50], loss: 0.0197, val_loss: 0.0209, val_acc: 0.5228\n",
            "Epoc [43/50], loss: 0.0196, val_loss: 0.0205, val_acc: 0.5315\n",
            "Epoc [44/50], loss: 0.0196, val_loss: 0.0208, val_acc: 0.5273\n",
            "Epoc [45/50], loss: 0.0196, val_loss: 0.0208, val_acc: 0.5238\n",
            "Epoc [46/50], loss: 0.0196, val_loss: 0.0211, val_acc: 0.5172\n",
            "Epoc [47/50], loss: 0.0195, val_loss: 0.0206, val_acc: 0.5331\n",
            "Epoc [48/50], loss: 0.0193, val_loss: 0.0214, val_acc: 0.5094\n",
            "Epoc [49/50], loss: 0.0193, val_loss: 0.0204, val_acc: 0.5364\n",
            "Epoc [50/50], loss: 0.0192, val_loss: 0.0205, val_acc: 0.5333\n"
          ],
          "name": "stdout"
        }
      ]
    },
    {
      "cell_type": "markdown",
      "metadata": {
        "id": "l-jsraAIRhrs",
        "colab_type": "text"
      },
      "source": [
        "# Simluation Results"
      ]
    },
    {
      "cell_type": "code",
      "metadata": {
        "id": "y8yes8oaQq7P",
        "colab_type": "code",
        "colab": {
          "base_uri": "https://localhost:8080/",
          "height": 295
        },
        "outputId": "f4cd3138-4636-4841-db1e-e58671c06626"
      },
      "source": [
        "import matplotlib.pyplot as plot\n",
        "%matplotlib inline\n",
        "\n",
        "plt.figure()\n",
        "\n",
        "plt.plot(range(num_epoch), train_loss_list, color='blue', linestyle='-', label='train_loss')\n",
        "plt.plot(range(num_epoch), val_loss_list, color='green', linestyle='--', label='val_loss')\n",
        "plt.legend()\n",
        "plt.xlabel('epoch')\n",
        "plt.ylabel('loss')\n",
        "plt.title('Training and validation loss')\n",
        "plt.grid()\n",
        "plt.show()\n"
      ],
      "execution_count": 40,
      "outputs": [
        {
          "output_type": "display_data",
          "data": {
            "image/png": "[encoded data removed]",
            "text/plain": [
              "<Figure size 432x288 with 1 Axes>"
            ]
          },
          "metadata": {
            "tags": []
          }
        }
      ]
    },
    {
      "cell_type": "code",
      "metadata": {
        "id": "6LB6bXKFSDRT",
        "colab_type": "code",
        "colab": {
          "base_uri": "https://localhost:8080/",
          "height": 295
        },
        "outputId": "43748200-5b25-49fa-eb66-732acb2fe0ba"
      },
      "source": [
        "plt.figure()\n",
        "\n",
        "plt.plot(range(num_epoch), train_acc_list, color='blue', linestyle='-', label='train_acc')\n",
        "plt.plot(range(num_epoch), val_acc_list, color='green', linestyle='--', label='val_acc')\n",
        "plt.legend()\n",
        "plt.xlabel('epoch')\n",
        "plt.ylabel('acc')\n",
        "plt.title('Training and validation accuracy')\n",
        "plt.grid()\n",
        "plt.show()"
      ],
      "execution_count": 41,
      "outputs": [
        {
          "output_type": "display_data",
          "data": {
            "image/png": "[encoded data removed]",
            "text/plain": [
              "<Figure size 432x288 with 1 Axes>"
            ]
          },
          "metadata": {
            "tags": []
          }
        }
      ]
    },
    {
      "cell_type": "code",
      "metadata": {
        "id": "BkNpeRQTSOoJ",
        "colab_type": "code",
        "colab": {
          "base_uri": "https://localhost:8080/",
          "height": 34
        },
        "outputId": "a1feab63-db4b-4e59-dd3a-c0e4117e31b4"
      },
      "source": [
        "# save netowrk\n",
        "torch.save(net.state_dict(), 'net.ckpt')\n",
        "\n",
        "# load\n",
        "net2 = MLPNet().to(device)\n",
        "net2.load_state_dict(torch.load('net.ckpt'))\n"
      ],
      "execution_count": 42,
      "outputs": [
        {
          "output_type": "execute_result",
          "data": {
            "text/plain": [
              "<All keys matched successfully>"
            ]
          },
          "metadata": {
            "tags": []
          },
          "execution_count": 42
        }
      ]
    },
    {
      "cell_type": "code",
      "metadata": {
        "id": "-6ND5ot_S6wD",
        "colab_type": "code",
        "colab": {
          "base_uri": "https://localhost:8080/",
          "height": 34
        },
        "outputId": "75d3a33e-baf7-44a1-902e-773976ae237d"
      },
      "source": [
        "net2.eval()\n",
        "with torch.no_grad():\n",
        "  total = 0\n",
        "  test_acc = 0\n",
        "  for images, labels in test_loader:\n",
        "    images, labels = images.view(-1, 32*32*3).to(device), labels.to(device)\n",
        "\n",
        "    outputs = net2(images)\n",
        "    test_acc += (outputs.max(1)[1]==labels).sum().item()\n",
        "    total += labels.size(0)\n",
        "\n",
        "  print('ACC: {}%'.format(100*test_acc/total))\n"
      ],
      "execution_count": 43,
      "outputs": [
        {
          "output_type": "stream",
          "text": [
            "ACC: 53.33%\n"
          ],
          "name": "stdout"
        }
      ]
    },
    {
      "cell_type": "code",
      "metadata": {
        "id": "ZpjchshvTZdh",
        "colab_type": "code",
        "colab": {
          "base_uri": "https://localhost:8080/",
          "height": 51
        },
        "outputId": "94c6f9b2-aaf4-41f4-c805-caa7cff78563"
      },
      "source": [
        "print(outputs.max(1)[1]==labels)"
      ],
      "execution_count": 44,
      "outputs": [
        {
          "output_type": "stream",
          "text": [
            "tensor([ True, False,  True,  True,  True,  True, False,  True,  True, False,\n",
            "         True,  True, False, False, False,  True], device='cuda:0')\n"
          ],
          "name": "stdout"
        }
      ]
    },
    {
      "cell_type": "code",
      "metadata": {
        "id": "ztQnGKVIZZjs",
        "colab_type": "code",
        "colab": {
          "base_uri": "https://localhost:8080/",
          "height": 34
        },
        "outputId": "d7e81ea9-bb60-4275-bb54-bcd32b9861a9"
      },
      "source": [
        "print((outputs.max(1)[1]==labels).sum())"
      ],
      "execution_count": 45,
      "outputs": [
        {
          "output_type": "stream",
          "text": [
            "tensor(10, device='cuda:0')\n"
          ],
          "name": "stdout"
        }
      ]
    },
    {
      "cell_type": "code",
      "metadata": {
        "id": "ObaM07SWZfaP",
        "colab_type": "code",
        "colab": {
          "base_uri": "https://localhost:8080/",
          "height": 34
        },
        "outputId": "e642bc10-9a49-4e1f-a92b-37eaf91e9385"
      },
      "source": [
        "print((outputs.max(1)[1]==labels).sum().item())"
      ],
      "execution_count": 46,
      "outputs": [
        {
          "output_type": "stream",
          "text": [
            "10\n"
          ],
          "name": "stdout"
        }
      ]
    },
    {
      "cell_type": "code",
      "metadata": {
        "id": "9Gv1ZfwPZkSQ",
        "colab_type": "code",
        "colab": {}
      },
      "source": [
        ""
      ],
      "execution_count": 0,
      "outputs": []
    }
  ]
}