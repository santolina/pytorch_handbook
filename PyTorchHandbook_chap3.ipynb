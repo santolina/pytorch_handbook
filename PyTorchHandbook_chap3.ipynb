{
  "nbformat": 4,
  "nbformat_minor": 0,
  "metadata": {
    "colab": {
      "name": "PyTorchHandbook_chap3.ipynb",
      "provenance": [],
      "collapsed_sections": [],
      "include_colab_link": true
    },
    "kernelspec": {
      "name": "python3",
      "display_name": "Python 3"
    },
    "accelerator": "GPU"
  },
  "cells": [
    {
      "cell_type": "markdown",
      "metadata": {
        "id": "view-in-github",
        "colab_type": "text"
      },
      "source": [
        "<a href=\"https://colab.research.google.com/github/santolina/pytorch_handbook/blob/master/PyTorchHandbook_chap3.ipynb\" target=\"_parent\"><img src=\"https://colab.research.google.com/assets/colab-badge.svg\" alt=\"Open In Colab\"/></a>"
      ]
    },
    {
      "cell_type": "code",
      "metadata": {
        "id": "KGAdFe0yJWlq",
        "colab_type": "code",
        "colab": {}
      },
      "source": [
        "import torch\n",
        "import torchvision\n",
        "import torch.nn as nn\n",
        "import torch.optim as optim\n",
        "import torch.nn.functional as F\n",
        "import torchvision.transforms as transforms\n",
        "%matplotlib inline\n",
        "import numpy as np\n",
        "import matplotlib.pyplot as plt"
      ],
      "execution_count": 0,
      "outputs": []
    },
    {
      "cell_type": "code",
      "metadata": {
        "id": "sjAONAlgJdeF",
        "colab_type": "code",
        "colab": {
          "base_uri": "https://localhost:8080/",
          "height": 102
        },
        "outputId": "2b0658c1-8bd2-4112-9640-334063c403b4"
      },
      "source": [
        "# import dataset\n",
        "\n",
        "train_dataset = torchvision.datasets.CIFAR10(root='./data/', \n",
        "                                             train=True,\n",
        "                                             transform = transforms.ToTensor(),\n",
        "                                             download=True\n",
        "                                             )\n",
        "\n",
        "test_dataset = torchvision.datasets.CIFAR10(root='./data/', \n",
        "                                            train=False,\n",
        "                                            transform = transforms.ToTensor(),\n",
        "                                            download = True\n",
        "                                            )\n",
        "                                \n",
        "image, label = train_dataset[0]\n",
        "print(image.size())\n",
        "print(label)"
      ],
      "execution_count": 2,
      "outputs": [
        {
          "output_type": "stream",
          "text": [
            "\r0it [00:00, ?it/s]"
          ],
          "name": "stderr"
        },
        {
          "output_type": "stream",
          "text": [
            "Downloading https://www.cs.toronto.edu/~kriz/cifar-10-python.tar.gz to ./data/cifar-10-python.tar.gz\n"
          ],
          "name": "stdout"
        },
        {
          "output_type": "stream",
          "text": [
            " 99%|█████████▊| 168108032/170498071 [00:12<00:00, 16852215.86it/s]"
          ],
          "name": "stderr"
        },
        {
          "output_type": "stream",
          "text": [
            "Extracting ./data/cifar-10-python.tar.gz to ./data/\n",
            "Files already downloaded and verified\n",
            "torch.Size([3, 32, 32])\n",
            "6\n"
          ],
          "name": "stdout"
        }
      ]
    },
    {
      "cell_type": "code",
      "metadata": {
        "id": "ctPw8MVZKxgI",
        "colab_type": "code",
        "colab": {}
      },
      "source": [
        "# define Dataloader\n",
        "\n",
        "train_loader = torch.utils.data.DataLoader(\n",
        "    dataset = train_dataset,\n",
        "    batch_size = 64,\n",
        "    shuffle = True, \n",
        "    num_workers=2\n",
        ")\n",
        "\n",
        "test_loader = torch.utils.data.DataLoader(\n",
        "    dataset = test_dataset, \n",
        "    batch_size = 64,\n",
        "    shuffle = False, \n",
        "    num_workers = 2\n",
        ")"
      ],
      "execution_count": 0,
      "outputs": []
    },
    {
      "cell_type": "code",
      "metadata": {
        "id": "Spb2JtLQLQfE",
        "colab_type": "code",
        "colab": {
          "base_uri": "https://localhost:8080/",
          "height": 68
        },
        "outputId": "33db4760-8403-4787-d913-c3ea2e5d991d"
      },
      "source": [
        "# check tensor's shape\n",
        "\n",
        "for images, labels in train_loader:\n",
        "  print(images.size())\n",
        "  print(images[0].size())\n",
        "  print(labels.size())\n",
        "  # insert training code\n",
        "  \n",
        "  break"
      ],
      "execution_count": 9,
      "outputs": [
        {
          "output_type": "stream",
          "text": [
            "torch.Size([64, 3, 32, 32])\n",
            "torch.Size([3, 32, 32])\n",
            "torch.Size([64])\n"
          ],
          "name": "stdout"
        }
      ]
    },
    {
      "cell_type": "code",
      "metadata": {
        "id": "xUv5DoIBLdo6",
        "colab_type": "code",
        "colab": {
          "base_uri": "https://localhost:8080/",
          "height": 34
        },
        "outputId": "2b9dfe18-0e01-4998-ef59-a4a722c9c82e"
      },
      "source": [
        "# define MLP network\n",
        "num_classes = 10\n",
        "\n",
        "class MLPNet(nn.Module):\n",
        "  def __init__(self):\n",
        "    super(MLPNet, self).__init__()\n",
        "    self.fc1 = nn.Linear(32 * 32 * 3, 600)\n",
        "    self.fc2 = nn.Linear(600, 600)\n",
        "    self.fc3 = nn.Linear(600, num_classes)\n",
        "    self.dropout1 = nn.Dropout2d(0.2)\n",
        "    self.dropout2 = nn.Dropout2d(0.2)\n",
        "\n",
        "  def forward(self, x):\n",
        "    x = F.relu(self.fc1(x))\n",
        "    x = self.dropout1(x)\n",
        "    x = F.relu(self.fc2(x))\n",
        "    x = self.dropout2(x)\n",
        "    x = F.relu(self.fc3(x))\n",
        "    return x\n",
        "\n",
        "device = 'cuda' if torch.cuda.is_available() else 'cpu'\n",
        "net = MLPNet().to(device)\n",
        "device"
      ],
      "execution_count": 11,
      "outputs": [
        {
          "output_type": "execute_result",
          "data": {
            "text/plain": [
              "'cuda'"
            ]
          },
          "metadata": {
            "tags": []
          },
          "execution_count": 11
        }
      ]
    },
    {
      "cell_type": "code",
      "metadata": {
        "id": "fxeyAsRhNiya",
        "colab_type": "code",
        "colab": {}
      },
      "source": [
        "# loss function and optimizer\n",
        "\n",
        "criterion = nn.CrossEntropyLoss()\n",
        "optimizer = optim.SGD(net.parameters(), lr=0.01, momentum=0.9, weight_decay=5e-4)\n"
      ],
      "execution_count": 0,
      "outputs": []
    },
    {
      "cell_type": "code",
      "metadata": {
        "id": "kv6gdfuhN8qc",
        "colab_type": "code",
        "colab": {
          "base_uri": "https://localhost:8080/",
          "height": 867
        },
        "outputId": "92c47ab8-5dfc-4a6e-c47e-8f556cd24e96"
      },
      "source": [
        "# training\n",
        "\n",
        "num_epoch=50\n",
        "\n",
        "train_loss_list = []\n",
        "train_acc_list = []\n",
        "val_loss_list = []\n",
        "val_acc_list = []\n",
        "\n",
        "for epoch in range(num_epoch):\n",
        "  train_loss = 0\n",
        "  train_acc = 0\n",
        "  val_loss = 0\n",
        "  val_acc = 0\n",
        "\n",
        "  # train=====\n",
        "  # change training mode\n",
        "  net.train()\n",
        "\n",
        "  for i, (images, labels) in enumerate(train_loader):\n",
        "    images, labels = images.view(-1, 32*32*3).to(device), labels.to(device)\n",
        "\n",
        "    # reset  gradient\n",
        "    optimizer.zero_grad()\n",
        "\n",
        "    # forward propagation\n",
        "    outputs = net(images)\n",
        "\n",
        "    # calc loss\n",
        "    loss = criterion(outputs, labels)\n",
        "\n",
        "    train_loss += loss.item()\n",
        "\n",
        "    train_acc += (outputs.max(1)[1] == labels).sum().item()\n",
        "\n",
        "    # back propagation\n",
        "    loss.backward()\n",
        "\n",
        "    # update weight\n",
        "    optimizer.step()\n",
        "\n",
        "  # average loss and accuracy\n",
        "  avg_train_loss = train_loss / len(train_loader.dataset)\n",
        "  avg_train_acc = train_acc / len(train_loader.dataset)\n",
        "\n",
        "  # val====\n",
        "  # change evaluation mode\n",
        "  net.eval()\n",
        "\n",
        "  with torch.no_grad():\n",
        "    for images, labels in test_loader:\n",
        "      images, labels = images.view(-1, 32*32*3).to(device), labels.to(device)\n",
        "\n",
        "      outputs = net(images)\n",
        "      loss = criterion(outputs, labels)\n",
        "\n",
        "      val_loss += loss.item()\n",
        "      val_acc += (outputs.max(1)[1]==labels).sum().item()\n",
        "    \n",
        "    avg_val_loss = val_loss / len(test_loader.dataset)\n",
        "    avg_val_acc = val_acc / len(test_loader.dataset)\n",
        "\n",
        "  # output loss and acc of training and test\n",
        "\n",
        "  print('Epoc [{}/{}], loss: {loss:.4f}, val_loss: {val_loss:.4f}, val_acc: {val_acc:.4f}'.format(\n",
        "      epoch+1, num_epoch, i+1, loss=avg_train_loss, val_loss=avg_val_loss, val_acc=avg_val_acc))\n",
        "\n",
        "  # store data to plot graph\n",
        "  train_loss_list.append(avg_train_loss)\n",
        "  train_acc_list.append(avg_train_acc)\n",
        "  val_loss_list.append(avg_val_loss)\n",
        "  val_acc_list.append(avg_val_acc)\n"
      ],
      "execution_count": 15,
      "outputs": [
        {
          "output_type": "stream",
          "text": [
            "Epoc [1/50], loss: 0.0264, val_loss: 0.0260, val_acc: 0.4028\n",
            "Epoc [2/50], loss: 0.0256, val_loss: 0.0247, val_acc: 0.4423\n",
            "Epoc [3/50], loss: 0.0252, val_loss: 0.0240, val_acc: 0.4558\n",
            "Epoc [4/50], loss: 0.0247, val_loss: 0.0235, val_acc: 0.4651\n",
            "Epoc [5/50], loss: 0.0244, val_loss: 0.0231, val_acc: 0.4716\n",
            "Epoc [6/50], loss: 0.0240, val_loss: 0.0236, val_acc: 0.4564\n",
            "Epoc [7/50], loss: 0.0237, val_loss: 0.0230, val_acc: 0.4855\n",
            "Epoc [8/50], loss: 0.0233, val_loss: 0.0233, val_acc: 0.4670\n",
            "Epoc [9/50], loss: 0.0231, val_loss: 0.0225, val_acc: 0.4839\n",
            "Epoc [10/50], loss: 0.0229, val_loss: 0.0224, val_acc: 0.4955\n",
            "Epoc [11/50], loss: 0.0227, val_loss: 0.0235, val_acc: 0.4601\n",
            "Epoc [12/50], loss: 0.0226, val_loss: 0.0219, val_acc: 0.5021\n",
            "Epoc [13/50], loss: 0.0223, val_loss: 0.0219, val_acc: 0.4940\n",
            "Epoc [14/50], loss: 0.0221, val_loss: 0.0221, val_acc: 0.4989\n",
            "Epoc [15/50], loss: 0.0219, val_loss: 0.0219, val_acc: 0.4960\n",
            "Epoc [16/50], loss: 0.0218, val_loss: 0.0220, val_acc: 0.4973\n",
            "Epoc [17/50], loss: 0.0216, val_loss: 0.0214, val_acc: 0.5165\n",
            "Epoc [18/50], loss: 0.0216, val_loss: 0.0213, val_acc: 0.5225\n",
            "Epoc [19/50], loss: 0.0214, val_loss: 0.0215, val_acc: 0.5089\n",
            "Epoc [20/50], loss: 0.0212, val_loss: 0.0213, val_acc: 0.5149\n",
            "Epoc [21/50], loss: 0.0212, val_loss: 0.0215, val_acc: 0.5116\n",
            "Epoc [22/50], loss: 0.0211, val_loss: 0.0214, val_acc: 0.5184\n",
            "Epoc [23/50], loss: 0.0210, val_loss: 0.0222, val_acc: 0.5011\n",
            "Epoc [24/50], loss: 0.0210, val_loss: 0.0217, val_acc: 0.4996\n",
            "Epoc [25/50], loss: 0.0207, val_loss: 0.0209, val_acc: 0.5274\n",
            "Epoc [26/50], loss: 0.0206, val_loss: 0.0210, val_acc: 0.5262\n",
            "Epoc [27/50], loss: 0.0206, val_loss: 0.0210, val_acc: 0.5265\n",
            "Epoc [28/50], loss: 0.0205, val_loss: 0.0215, val_acc: 0.5178\n",
            "Epoc [29/50], loss: 0.0205, val_loss: 0.0214, val_acc: 0.5067\n",
            "Epoc [30/50], loss: 0.0203, val_loss: 0.0218, val_acc: 0.5038\n",
            "Epoc [31/50], loss: 0.0201, val_loss: 0.0212, val_acc: 0.5211\n",
            "Epoc [32/50], loss: 0.0202, val_loss: 0.0208, val_acc: 0.5301\n",
            "Epoc [33/50], loss: 0.0200, val_loss: 0.0210, val_acc: 0.5225\n",
            "Epoc [34/50], loss: 0.0200, val_loss: 0.0219, val_acc: 0.4994\n",
            "Epoc [35/50], loss: 0.0198, val_loss: 0.0214, val_acc: 0.5160\n",
            "Epoc [36/50], loss: 0.0199, val_loss: 0.0208, val_acc: 0.5302\n",
            "Epoc [37/50], loss: 0.0199, val_loss: 0.0207, val_acc: 0.5240\n",
            "Epoc [38/50], loss: 0.0197, val_loss: 0.0210, val_acc: 0.5215\n",
            "Epoc [39/50], loss: 0.0197, val_loss: 0.0206, val_acc: 0.5306\n",
            "Epoc [40/50], loss: 0.0196, val_loss: 0.0209, val_acc: 0.5288\n",
            "Epoc [41/50], loss: 0.0196, val_loss: 0.0210, val_acc: 0.5204\n",
            "Epoc [42/50], loss: 0.0196, val_loss: 0.0207, val_acc: 0.5289\n",
            "Epoc [43/50], loss: 0.0195, val_loss: 0.0205, val_acc: 0.5376\n",
            "Epoc [44/50], loss: 0.0194, val_loss: 0.0214, val_acc: 0.5108\n",
            "Epoc [45/50], loss: 0.0195, val_loss: 0.0217, val_acc: 0.5044\n",
            "Epoc [46/50], loss: 0.0193, val_loss: 0.0209, val_acc: 0.5251\n",
            "Epoc [47/50], loss: 0.0191, val_loss: 0.0211, val_acc: 0.5166\n",
            "Epoc [48/50], loss: 0.0192, val_loss: 0.0210, val_acc: 0.5235\n",
            "Epoc [49/50], loss: 0.0192, val_loss: 0.0208, val_acc: 0.5323\n",
            "Epoc [50/50], loss: 0.0192, val_loss: 0.0207, val_acc: 0.5265\n"
          ],
          "name": "stdout"
        }
      ]
    },
    {
      "cell_type": "markdown",
      "metadata": {
        "id": "l-jsraAIRhrs",
        "colab_type": "text"
      },
      "source": [
        "# Simluation Results"
      ]
    },
    {
      "cell_type": "code",
      "metadata": {
        "id": "y8yes8oaQq7P",
        "colab_type": "code",
        "colab": {
          "base_uri": "https://localhost:8080/",
          "height": 295
        },
        "outputId": "3990f4d3-8dce-42cf-a26a-c3b28809bb77"
      },
      "source": [
        "import matplotlib.pyplot as plot\n",
        "%matplotlib inline\n",
        "\n",
        "plt.figure()\n",
        "\n",
        "plt.plot(range(num_epoch), train_loss_list, color='blue', linestyle='-', label='train_loss')\n",
        "plt.plot(range(num_epoch), val_loss_list, color='green', linestyle='--', label='val_loss')\n",
        "plt.legend()\n",
        "plt.xlabel('epoch')\n",
        "plt.ylabel('loss')\n",
        "plt.title('Training and validation loss')\n",
        "plt.grid()\n",
        "plt.show()\n"
      ],
      "execution_count": 19,
      "outputs": [
        {
          "output_type": "display_data",
          "data": {
            "image/png": "[encoded data removed]",
            "text/plain": [
              "<Figure size 432x288 with 1 Axes>"
            ]
          },
          "metadata": {
            "tags": []
          }
        }
      ]
    },
    {
      "cell_type": "code",
      "metadata": {
        "id": "6LB6bXKFSDRT",
        "colab_type": "code",
        "colab": {
          "base_uri": "https://localhost:8080/",
          "height": 295
        },
        "outputId": "78cb57e3-dacd-4104-88d7-94f66de2557b"
      },
      "source": [
        "plt.figure()\n",
        "\n",
        "plt.plot(range(num_epoch), train_acc_list, color='blue', linestyle='-', label='train_acc')\n",
        "plt.plot(range(num_epoch), val_acc_list, color='green', linestyle='--', label='val_acc')\n",
        "plt.legend()\n",
        "plt.xlabel('epoch')\n",
        "plt.ylabel('acc')\n",
        "plt.title('Training and validation accuracy')\n",
        "plt.grid()\n",
        "plt.show()"
      ],
      "execution_count": 20,
      "outputs": [
        {
          "output_type": "display_data",
          "data": {
            "image/png": "[encoded data removed]",
            "text/plain": [
              "<Figure size 432x288 with 1 Axes>"
            ]
          },
          "metadata": {
            "tags": []
          }
        }
      ]
    },
    {
      "cell_type": "code",
      "metadata": {
        "id": "BkNpeRQTSOoJ",
        "colab_type": "code",
        "colab": {
          "base_uri": "https://localhost:8080/",
          "height": 34
        },
        "outputId": "db6728c1-6f21-45d5-ff5a-33770be0f00f"
      },
      "source": [
        "# save netowrk\n",
        "torch.save(net.state_dict(), 'net.ckpt')\n",
        "\n",
        "# load\n",
        "net2 = MLPNet().to(device)\n",
        "net2.load_state_dict(torch.load('net.ckpt'))\n"
      ],
      "execution_count": 21,
      "outputs": [
        {
          "output_type": "execute_result",
          "data": {
            "text/plain": [
              "<All keys matched successfully>"
            ]
          },
          "metadata": {
            "tags": []
          },
          "execution_count": 21
        }
      ]
    },
    {
      "cell_type": "code",
      "metadata": {
        "id": "-6ND5ot_S6wD",
        "colab_type": "code",
        "colab": {
          "base_uri": "https://localhost:8080/",
          "height": 34
        },
        "outputId": "ad2ee7e2-de44-4219-b5c6-e2e3e9d81b7e"
      },
      "source": [
        "net2.eval()\n",
        "with torch.no_grad():\n",
        "  total = 0\n",
        "  test_acc = 0\n",
        "  for images, labels in test_loader:\n",
        "    images, labels = images.view(-1, 32*32*3).to(device), labels.to(device)\n",
        "\n",
        "    outputs = net2(images)\n",
        "    test_acc += (outputs.max(1)[1]==labels).sum().item()\n",
        "    total += labels.size(0)\n",
        "\n",
        "  print('ACC: {}%'.format(100*test_acc/total))\n"
      ],
      "execution_count": 24,
      "outputs": [
        {
          "output_type": "stream",
          "text": [
            "ACC: 52.65%\n"
          ],
          "name": "stdout"
        }
      ]
    },
    {
      "cell_type": "code",
      "metadata": {
        "id": "ZpjchshvTZdh",
        "colab_type": "code",
        "colab": {}
      },
      "source": [
        ""
      ],
      "execution_count": 0,
      "outputs": []
    }
  ]
}